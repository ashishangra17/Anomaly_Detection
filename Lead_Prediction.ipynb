{
  "nbformat": 4,
  "nbformat_minor": 0,
  "metadata": {
    "kernelspec": {
      "display_name": "Python 3",
      "language": "python",
      "name": "python3"
    },
    "language_info": {
      "codemirror_mode": {
        "name": "ipython",
        "version": 3
      },
      "file_extension": ".py",
      "mimetype": "text/x-python",
      "name": "python",
      "nbconvert_exporter": "python",
      "pygments_lexer": "ipython3",
      "version": "3.8.5"
    },
    "colab": {
      "name": "Lead Score Case Study -Copy1.ipynb",
      "provenance": [],
      "include_colab_link": true
    },
    "accelerator": "GPU"
  },
  "cells": [
    {
      "cell_type": "markdown",
      "metadata": {
        "id": "view-in-github",
        "colab_type": "text"
      },
      "source": [
        "<a href=\"https://colab.research.google.com/github/ashishangra17/Anomaly_Detection/blob/main/Lead_Prediction.ipynb\" target=\"_parent\"><img src=\"https://colab.research.google.com/assets/colab-badge.svg\" alt=\"Open In Colab\"/></a>"
      ]
    },
    {
      "cell_type": "code",
      "metadata": {
        "id": "RPuV__z-w7r7"
      },
      "source": [
        "import warnings\n",
        "warnings.filterwarnings('ignore')"
      ],
      "execution_count": 697,
      "outputs": []
    },
    {
      "cell_type": "code",
      "metadata": {
        "id": "r9BMt_uOw7r8"
      },
      "source": [
        "import numpy as np\n",
        "import pandas as pd\n",
        "import seaborn as sns\n",
        "import matplotlib.pyplot as plt\n",
        "from sklearn.model_selection import train_test_split\n",
        "from sklearn.preprocessing import StandardScaler\n",
        "import statsmodels.api as sm\n",
        "from sklearn.linear_model import LogisticRegression\n",
        "from sklearn.feature_selection import RFE\n",
        "from statsmodels.stats.outliers_influence import variance_inflation_factor\n",
        "from sklearn import metrics\n",
        "from sklearn.metrics import precision_score, recall_score\n",
        "from sklearn.metrics import precision_recall_curve\n",
        "from sklearn.model_selection import cross_val_score\n",
        "\n",
        "\n",
        "import xgboost as xg\n",
        "from sklearn.metrics import mean_squared_error as MSE"
      ],
      "execution_count": 698,
      "outputs": []
    },
    {
      "cell_type": "code",
      "metadata": {
        "colab": {
          "base_uri": "https://localhost:8080/"
        },
        "id": "3K3SzF6yw7r-",
        "outputId": "f1402461-a65f-4bcf-93c9-d2397e9eca50"
      },
      "source": [
        "!pip install xgboost"
      ],
      "execution_count": 699,
      "outputs": [
        {
          "output_type": "stream",
          "text": [
            "Requirement already satisfied: xgboost in /usr/local/lib/python3.7/dist-packages (0.90)\n",
            "Requirement already satisfied: numpy in /usr/local/lib/python3.7/dist-packages (from xgboost) (1.19.5)\n",
            "Requirement already satisfied: scipy in /usr/local/lib/python3.7/dist-packages (from xgboost) (1.4.1)\n"
          ],
          "name": "stdout"
        }
      ]
    },
    {
      "cell_type": "markdown",
      "metadata": {
        "id": "DLWQAwFvw7r_"
      },
      "source": [
        "### Reading Leads data file"
      ]
    },
    {
      "cell_type": "code",
      "metadata": {
        "colab": {
          "base_uri": "https://localhost:8080/",
          "height": 225
        },
        "id": "nVBUy5nBw7sA",
        "outputId": "afa90125-414b-4725-ff93-7e8389187286"
      },
      "source": [
        "#from google.colab import files\n",
        "#files.upload()\n",
        "leads_df = pd.read_csv('train_s3TEQDk.csv')\n",
        "leads_df.index = leads_df[\"ID\"]\n",
        "leads_df.head()\n",
        "#files.upload()\n",
        "leads_df_test = pd.read_csv('test_mSzZ8RL.csv')\n",
        "leads_df_test.index = leads_df_test[\"ID\"]\n",
        "leads_df_test.head()"
      ],
      "execution_count": 700,
      "outputs": [
        {
          "output_type": "execute_result",
          "data": {
            "text/html": [
              "<div>\n",
              "<style scoped>\n",
              "    .dataframe tbody tr th:only-of-type {\n",
              "        vertical-align: middle;\n",
              "    }\n",
              "\n",
              "    .dataframe tbody tr th {\n",
              "        vertical-align: top;\n",
              "    }\n",
              "\n",
              "    .dataframe thead th {\n",
              "        text-align: right;\n",
              "    }\n",
              "</style>\n",
              "<table border=\"1\" class=\"dataframe\">\n",
              "  <thead>\n",
              "    <tr style=\"text-align: right;\">\n",
              "      <th></th>\n",
              "      <th>ID</th>\n",
              "      <th>Gender</th>\n",
              "      <th>Age</th>\n",
              "      <th>Region_Code</th>\n",
              "      <th>Occupation</th>\n",
              "      <th>Channel_Code</th>\n",
              "      <th>Vintage</th>\n",
              "      <th>Credit_Product</th>\n",
              "      <th>Avg_Account_Balance</th>\n",
              "      <th>Is_Active</th>\n",
              "    </tr>\n",
              "    <tr>\n",
              "      <th>ID</th>\n",
              "      <th></th>\n",
              "      <th></th>\n",
              "      <th></th>\n",
              "      <th></th>\n",
              "      <th></th>\n",
              "      <th></th>\n",
              "      <th></th>\n",
              "      <th></th>\n",
              "      <th></th>\n",
              "      <th></th>\n",
              "    </tr>\n",
              "  </thead>\n",
              "  <tbody>\n",
              "    <tr>\n",
              "      <th>VBENBARO</th>\n",
              "      <td>VBENBARO</td>\n",
              "      <td>Male</td>\n",
              "      <td>29</td>\n",
              "      <td>RG254</td>\n",
              "      <td>Other</td>\n",
              "      <td>X1</td>\n",
              "      <td>25</td>\n",
              "      <td>Yes</td>\n",
              "      <td>742366</td>\n",
              "      <td>No</td>\n",
              "    </tr>\n",
              "    <tr>\n",
              "      <th>CCMEWNKY</th>\n",
              "      <td>CCMEWNKY</td>\n",
              "      <td>Male</td>\n",
              "      <td>43</td>\n",
              "      <td>RG268</td>\n",
              "      <td>Other</td>\n",
              "      <td>X2</td>\n",
              "      <td>49</td>\n",
              "      <td>NaN</td>\n",
              "      <td>925537</td>\n",
              "      <td>No</td>\n",
              "    </tr>\n",
              "    <tr>\n",
              "      <th>VK3KGA9M</th>\n",
              "      <td>VK3KGA9M</td>\n",
              "      <td>Male</td>\n",
              "      <td>31</td>\n",
              "      <td>RG270</td>\n",
              "      <td>Salaried</td>\n",
              "      <td>X1</td>\n",
              "      <td>14</td>\n",
              "      <td>No</td>\n",
              "      <td>215949</td>\n",
              "      <td>No</td>\n",
              "    </tr>\n",
              "    <tr>\n",
              "      <th>TT8RPZVC</th>\n",
              "      <td>TT8RPZVC</td>\n",
              "      <td>Male</td>\n",
              "      <td>29</td>\n",
              "      <td>RG272</td>\n",
              "      <td>Other</td>\n",
              "      <td>X1</td>\n",
              "      <td>33</td>\n",
              "      <td>No</td>\n",
              "      <td>868070</td>\n",
              "      <td>No</td>\n",
              "    </tr>\n",
              "    <tr>\n",
              "      <th>SHQZEYTZ</th>\n",
              "      <td>SHQZEYTZ</td>\n",
              "      <td>Female</td>\n",
              "      <td>29</td>\n",
              "      <td>RG270</td>\n",
              "      <td>Other</td>\n",
              "      <td>X1</td>\n",
              "      <td>19</td>\n",
              "      <td>No</td>\n",
              "      <td>657087</td>\n",
              "      <td>No</td>\n",
              "    </tr>\n",
              "  </tbody>\n",
              "</table>\n",
              "</div>"
            ],
            "text/plain": [
              "                ID  Gender  Age  ... Credit_Product Avg_Account_Balance Is_Active\n",
              "ID                               ...                                             \n",
              "VBENBARO  VBENBARO    Male   29  ...            Yes              742366        No\n",
              "CCMEWNKY  CCMEWNKY    Male   43  ...            NaN              925537        No\n",
              "VK3KGA9M  VK3KGA9M    Male   31  ...             No              215949        No\n",
              "TT8RPZVC  TT8RPZVC    Male   29  ...             No              868070        No\n",
              "SHQZEYTZ  SHQZEYTZ  Female   29  ...             No              657087        No\n",
              "\n",
              "[5 rows x 10 columns]"
            ]
          },
          "metadata": {
            "tags": []
          },
          "execution_count": 700
        }
      ]
    },
    {
      "cell_type": "markdown",
      "metadata": {
        "id": "PnZNW30Cw7sB"
      },
      "source": [
        "#### Inspect dataframe "
      ]
    },
    {
      "cell_type": "code",
      "metadata": {
        "colab": {
          "base_uri": "https://localhost:8080/",
          "height": 1000
        },
        "id": "RkO_NMxlw7sB",
        "outputId": "941a7cc7-61cd-410c-a2a1-ec080caf25a3"
      },
      "source": [
        "print(leads_df.columns)\n",
        "print(\"\") # empty line for formatting\n",
        "\n",
        "print(\"Shape: \" + str(leads_df.shape))\n",
        "print(\"\") # empty line for formatting\n",
        "\n",
        "print(\"dtypes: \" + str(leads_df.dtypes))\n",
        "print(\"\") # empty line for formatting\n",
        "\n",
        "print(\"describe: \" + str(leads_df.describe()))     \n",
        "print(\"\") # empty line for formatting\n",
        "      \n",
        "print(leads_df.info)\n",
        "print(\"\") # empty line for formatting\n",
        "\n",
        "print(\"Size of frame: \" + str(leads_df.size))\n",
        "\n",
        "#printing few rows\n",
        "leads_df.head()\n"
      ],
      "execution_count": 701,
      "outputs": [
        {
          "output_type": "stream",
          "text": [
            "Index(['ID', 'Gender', 'Age', 'Region_Code', 'Occupation', 'Channel_Code',\n",
            "       'Vintage', 'Credit_Product', 'Avg_Account_Balance', 'Is_Active',\n",
            "       'Is_Lead'],\n",
            "      dtype='object')\n",
            "\n",
            "Shape: (245725, 11)\n",
            "\n",
            "dtypes: ID                     object\n",
            "Gender                 object\n",
            "Age                     int64\n",
            "Region_Code            object\n",
            "Occupation             object\n",
            "Channel_Code           object\n",
            "Vintage                 int64\n",
            "Credit_Product         object\n",
            "Avg_Account_Balance     int64\n",
            "Is_Active              object\n",
            "Is_Lead                 int64\n",
            "dtype: object\n",
            "\n",
            "describe:                  Age        Vintage  Avg_Account_Balance        Is_Lead\n",
            "count  245725.000000  245725.000000         2.457250e+05  245725.000000\n",
            "mean       43.856307      46.959141         1.128403e+06       0.237208\n",
            "std        14.828672      32.353136         8.529364e+05       0.425372\n",
            "min        23.000000       7.000000         2.079000e+04       0.000000\n",
            "25%        30.000000      20.000000         6.043100e+05       0.000000\n",
            "50%        43.000000      32.000000         8.946010e+05       0.000000\n",
            "75%        54.000000      73.000000         1.366666e+06       0.000000\n",
            "max        85.000000     135.000000         1.035201e+07       1.000000\n",
            "\n",
            "<bound method DataFrame.info of                 ID  Gender  Age  ... Avg_Account_Balance Is_Active Is_Lead\n",
            "ID                               ...                                      \n",
            "NNVBBKZB  NNVBBKZB  Female   73  ...             1045696        No       0\n",
            "IDD62UNG  IDD62UNG  Female   30  ...              581988        No       0\n",
            "HD3DSEMC  HD3DSEMC  Female   56  ...             1484315       Yes       0\n",
            "BF3NC7KV  BF3NC7KV    Male   34  ...              470454        No       0\n",
            "TEASRWXV  TEASRWXV  Female   30  ...              886787        No       0\n",
            "...            ...     ...  ...  ...                 ...       ...     ...\n",
            "BPAWWXZN  BPAWWXZN    Male   51  ...             1925586        No       0\n",
            "HFNB7JY8  HFNB7JY8    Male   27  ...              862952       Yes       0\n",
            "GEHAUCWT  GEHAUCWT  Female   26  ...              670659        No       0\n",
            "GE7V8SAH  GE7V8SAH  Female   28  ...              407504        No       0\n",
            "BOCZSWLJ  BOCZSWLJ    Male   29  ...             1129276        No       0\n",
            "\n",
            "[245725 rows x 11 columns]>\n",
            "\n",
            "Size of frame: 2702975\n"
          ],
          "name": "stdout"
        },
        {
          "output_type": "execute_result",
          "data": {
            "text/html": [
              "<div>\n",
              "<style scoped>\n",
              "    .dataframe tbody tr th:only-of-type {\n",
              "        vertical-align: middle;\n",
              "    }\n",
              "\n",
              "    .dataframe tbody tr th {\n",
              "        vertical-align: top;\n",
              "    }\n",
              "\n",
              "    .dataframe thead th {\n",
              "        text-align: right;\n",
              "    }\n",
              "</style>\n",
              "<table border=\"1\" class=\"dataframe\">\n",
              "  <thead>\n",
              "    <tr style=\"text-align: right;\">\n",
              "      <th></th>\n",
              "      <th>ID</th>\n",
              "      <th>Gender</th>\n",
              "      <th>Age</th>\n",
              "      <th>Region_Code</th>\n",
              "      <th>Occupation</th>\n",
              "      <th>Channel_Code</th>\n",
              "      <th>Vintage</th>\n",
              "      <th>Credit_Product</th>\n",
              "      <th>Avg_Account_Balance</th>\n",
              "      <th>Is_Active</th>\n",
              "      <th>Is_Lead</th>\n",
              "    </tr>\n",
              "    <tr>\n",
              "      <th>ID</th>\n",
              "      <th></th>\n",
              "      <th></th>\n",
              "      <th></th>\n",
              "      <th></th>\n",
              "      <th></th>\n",
              "      <th></th>\n",
              "      <th></th>\n",
              "      <th></th>\n",
              "      <th></th>\n",
              "      <th></th>\n",
              "      <th></th>\n",
              "    </tr>\n",
              "  </thead>\n",
              "  <tbody>\n",
              "    <tr>\n",
              "      <th>NNVBBKZB</th>\n",
              "      <td>NNVBBKZB</td>\n",
              "      <td>Female</td>\n",
              "      <td>73</td>\n",
              "      <td>RG268</td>\n",
              "      <td>Other</td>\n",
              "      <td>X3</td>\n",
              "      <td>43</td>\n",
              "      <td>No</td>\n",
              "      <td>1045696</td>\n",
              "      <td>No</td>\n",
              "      <td>0</td>\n",
              "    </tr>\n",
              "    <tr>\n",
              "      <th>IDD62UNG</th>\n",
              "      <td>IDD62UNG</td>\n",
              "      <td>Female</td>\n",
              "      <td>30</td>\n",
              "      <td>RG277</td>\n",
              "      <td>Salaried</td>\n",
              "      <td>X1</td>\n",
              "      <td>32</td>\n",
              "      <td>No</td>\n",
              "      <td>581988</td>\n",
              "      <td>No</td>\n",
              "      <td>0</td>\n",
              "    </tr>\n",
              "    <tr>\n",
              "      <th>HD3DSEMC</th>\n",
              "      <td>HD3DSEMC</td>\n",
              "      <td>Female</td>\n",
              "      <td>56</td>\n",
              "      <td>RG268</td>\n",
              "      <td>Self_Employed</td>\n",
              "      <td>X3</td>\n",
              "      <td>26</td>\n",
              "      <td>No</td>\n",
              "      <td>1484315</td>\n",
              "      <td>Yes</td>\n",
              "      <td>0</td>\n",
              "    </tr>\n",
              "    <tr>\n",
              "      <th>BF3NC7KV</th>\n",
              "      <td>BF3NC7KV</td>\n",
              "      <td>Male</td>\n",
              "      <td>34</td>\n",
              "      <td>RG270</td>\n",
              "      <td>Salaried</td>\n",
              "      <td>X1</td>\n",
              "      <td>19</td>\n",
              "      <td>No</td>\n",
              "      <td>470454</td>\n",
              "      <td>No</td>\n",
              "      <td>0</td>\n",
              "    </tr>\n",
              "    <tr>\n",
              "      <th>TEASRWXV</th>\n",
              "      <td>TEASRWXV</td>\n",
              "      <td>Female</td>\n",
              "      <td>30</td>\n",
              "      <td>RG282</td>\n",
              "      <td>Salaried</td>\n",
              "      <td>X1</td>\n",
              "      <td>33</td>\n",
              "      <td>No</td>\n",
              "      <td>886787</td>\n",
              "      <td>No</td>\n",
              "      <td>0</td>\n",
              "    </tr>\n",
              "  </tbody>\n",
              "</table>\n",
              "</div>"
            ],
            "text/plain": [
              "                ID  Gender  Age  ... Avg_Account_Balance Is_Active Is_Lead\n",
              "ID                               ...                                      \n",
              "NNVBBKZB  NNVBBKZB  Female   73  ...             1045696        No       0\n",
              "IDD62UNG  IDD62UNG  Female   30  ...              581988        No       0\n",
              "HD3DSEMC  HD3DSEMC  Female   56  ...             1484315       Yes       0\n",
              "BF3NC7KV  BF3NC7KV    Male   34  ...              470454        No       0\n",
              "TEASRWXV  TEASRWXV  Female   30  ...              886787        No       0\n",
              "\n",
              "[5 rows x 11 columns]"
            ]
          },
          "metadata": {
            "tags": []
          },
          "execution_count": 701
        }
      ]
    },
    {
      "cell_type": "markdown",
      "metadata": {
        "id": "QD9oK3Tew7sC"
      },
      "source": [
        "### Converting Select Value to Nan values"
      ]
    },
    {
      "cell_type": "code",
      "metadata": {
        "id": "MaCK0olXw7sD"
      },
      "source": [
        "# As select means that the values have not been selected by the user, Converting them to NAn will help to analyse it correctly.\n",
        "leads_df = leads_df.replace('Select', np.nan)"
      ],
      "execution_count": 702,
      "outputs": []
    },
    {
      "cell_type": "markdown",
      "metadata": {
        "id": "WQXBRsgWw7sE"
      },
      "source": [
        "### Inspect Null values for cleaning the dataframe        "
      ]
    },
    {
      "cell_type": "code",
      "metadata": {
        "scrolled": true,
        "colab": {
          "base_uri": "https://localhost:8080/"
        },
        "id": "Z4p5uexWw7sE",
        "outputId": "6d4e5dd7-6c67-41a2-dc9f-34249bea82d1"
      },
      "source": [
        "# Check column-wise null count\n",
        "leads_df.isnull().sum(axis = 0)"
      ],
      "execution_count": 703,
      "outputs": [
        {
          "output_type": "execute_result",
          "data": {
            "text/plain": [
              "ID                         0\n",
              "Gender                     0\n",
              "Age                        0\n",
              "Region_Code                0\n",
              "Occupation                 0\n",
              "Channel_Code               0\n",
              "Vintage                    0\n",
              "Credit_Product         29325\n",
              "Avg_Account_Balance        0\n",
              "Is_Active                  0\n",
              "Is_Lead                    0\n",
              "dtype: int64"
            ]
          },
          "metadata": {
            "tags": []
          },
          "execution_count": 703
        }
      ]
    },
    {
      "cell_type": "code",
      "metadata": {
        "id": "0hG01dk2w7sF"
      },
      "source": [
        "### Only Credit_Product has NULL values. Checking distinct values for same."
      ],
      "execution_count": 704,
      "outputs": []
    },
    {
      "cell_type": "code",
      "metadata": {
        "colab": {
          "base_uri": "https://localhost:8080/"
        },
        "id": "juK3Olt0w7sG",
        "outputId": "12b5f9ae-2ce1-455a-b61c-1fa195e45863"
      },
      "source": [
        "leads_df['Credit_Product'].unique()"
      ],
      "execution_count": 705,
      "outputs": [
        {
          "output_type": "execute_result",
          "data": {
            "text/plain": [
              "array(['No', nan, 'Yes'], dtype=object)"
            ]
          },
          "metadata": {
            "tags": []
          },
          "execution_count": 705
        }
      ]
    },
    {
      "cell_type": "code",
      "metadata": {
        "colab": {
          "base_uri": "https://localhost:8080/"
        },
        "id": "JGjHtymFw7sH",
        "outputId": "914d84be-1192-4653-b35f-31995846be8f"
      },
      "source": [
        "# Check the precentage of missing values present - column-wise null percentages\n",
        "print(round(100*(leads_df.isnull().sum()/len(leads_df.index)),2)) # round for 2 decimal places"
      ],
      "execution_count": 706,
      "outputs": [
        {
          "output_type": "stream",
          "text": [
            "ID                      0.00\n",
            "Gender                  0.00\n",
            "Age                     0.00\n",
            "Region_Code             0.00\n",
            "Occupation              0.00\n",
            "Channel_Code            0.00\n",
            "Vintage                 0.00\n",
            "Credit_Product         11.93\n",
            "Avg_Account_Balance     0.00\n",
            "Is_Active               0.00\n",
            "Is_Lead                 0.00\n",
            "dtype: float64\n"
          ],
          "name": "stdout"
        }
      ]
    },
    {
      "cell_type": "code",
      "metadata": {
        "id": "I0vef38zw7sI"
      },
      "source": [
        "## Inspecting the data where Credit_Product has blank values."
      ],
      "execution_count": 707,
      "outputs": []
    },
    {
      "cell_type": "code",
      "metadata": {
        "colab": {
          "base_uri": "https://localhost:8080/",
          "height": 431
        },
        "id": "kJaZgn_Jw7sJ",
        "outputId": "515fa74a-334c-4936-b128-35dc8112f0d6"
      },
      "source": [
        "leads_df[leads_df['Credit_Product'].isna()]"
      ],
      "execution_count": 708,
      "outputs": [
        {
          "output_type": "execute_result",
          "data": {
            "text/html": [
              "<div>\n",
              "<style scoped>\n",
              "    .dataframe tbody tr th:only-of-type {\n",
              "        vertical-align: middle;\n",
              "    }\n",
              "\n",
              "    .dataframe tbody tr th {\n",
              "        vertical-align: top;\n",
              "    }\n",
              "\n",
              "    .dataframe thead th {\n",
              "        text-align: right;\n",
              "    }\n",
              "</style>\n",
              "<table border=\"1\" class=\"dataframe\">\n",
              "  <thead>\n",
              "    <tr style=\"text-align: right;\">\n",
              "      <th></th>\n",
              "      <th>ID</th>\n",
              "      <th>Gender</th>\n",
              "      <th>Age</th>\n",
              "      <th>Region_Code</th>\n",
              "      <th>Occupation</th>\n",
              "      <th>Channel_Code</th>\n",
              "      <th>Vintage</th>\n",
              "      <th>Credit_Product</th>\n",
              "      <th>Avg_Account_Balance</th>\n",
              "      <th>Is_Active</th>\n",
              "      <th>Is_Lead</th>\n",
              "    </tr>\n",
              "    <tr>\n",
              "      <th>ID</th>\n",
              "      <th></th>\n",
              "      <th></th>\n",
              "      <th></th>\n",
              "      <th></th>\n",
              "      <th></th>\n",
              "      <th></th>\n",
              "      <th></th>\n",
              "      <th></th>\n",
              "      <th></th>\n",
              "      <th></th>\n",
              "      <th></th>\n",
              "    </tr>\n",
              "  </thead>\n",
              "  <tbody>\n",
              "    <tr>\n",
              "      <th>ETQCZFEJ</th>\n",
              "      <td>ETQCZFEJ</td>\n",
              "      <td>Male</td>\n",
              "      <td>62</td>\n",
              "      <td>RG282</td>\n",
              "      <td>Other</td>\n",
              "      <td>X3</td>\n",
              "      <td>20</td>\n",
              "      <td>NaN</td>\n",
              "      <td>1056750</td>\n",
              "      <td>Yes</td>\n",
              "      <td>1</td>\n",
              "    </tr>\n",
              "    <tr>\n",
              "      <th>UJ2NJKKL</th>\n",
              "      <td>UJ2NJKKL</td>\n",
              "      <td>Male</td>\n",
              "      <td>33</td>\n",
              "      <td>RG268</td>\n",
              "      <td>Self_Employed</td>\n",
              "      <td>X2</td>\n",
              "      <td>69</td>\n",
              "      <td>NaN</td>\n",
              "      <td>517063</td>\n",
              "      <td>Yes</td>\n",
              "      <td>1</td>\n",
              "    </tr>\n",
              "    <tr>\n",
              "      <th>ABPMK4WU</th>\n",
              "      <td>ABPMK4WU</td>\n",
              "      <td>Female</td>\n",
              "      <td>32</td>\n",
              "      <td>RG279</td>\n",
              "      <td>Salaried</td>\n",
              "      <td>X4</td>\n",
              "      <td>15</td>\n",
              "      <td>NaN</td>\n",
              "      <td>1072850</td>\n",
              "      <td>Yes</td>\n",
              "      <td>1</td>\n",
              "    </tr>\n",
              "    <tr>\n",
              "      <th>MTEIXMB9</th>\n",
              "      <td>MTEIXMB9</td>\n",
              "      <td>Female</td>\n",
              "      <td>41</td>\n",
              "      <td>RG268</td>\n",
              "      <td>Self_Employed</td>\n",
              "      <td>X3</td>\n",
              "      <td>62</td>\n",
              "      <td>NaN</td>\n",
              "      <td>962383</td>\n",
              "      <td>No</td>\n",
              "      <td>1</td>\n",
              "    </tr>\n",
              "    <tr>\n",
              "      <th>6WX9JDVK</th>\n",
              "      <td>6WX9JDVK</td>\n",
              "      <td>Female</td>\n",
              "      <td>63</td>\n",
              "      <td>RG254</td>\n",
              "      <td>Other</td>\n",
              "      <td>X3</td>\n",
              "      <td>103</td>\n",
              "      <td>NaN</td>\n",
              "      <td>1249319</td>\n",
              "      <td>Yes</td>\n",
              "      <td>1</td>\n",
              "    </tr>\n",
              "    <tr>\n",
              "      <th>...</th>\n",
              "      <td>...</td>\n",
              "      <td>...</td>\n",
              "      <td>...</td>\n",
              "      <td>...</td>\n",
              "      <td>...</td>\n",
              "      <td>...</td>\n",
              "      <td>...</td>\n",
              "      <td>...</td>\n",
              "      <td>...</td>\n",
              "      <td>...</td>\n",
              "      <td>...</td>\n",
              "    </tr>\n",
              "    <tr>\n",
              "      <th>WVJFPREY</th>\n",
              "      <td>WVJFPREY</td>\n",
              "      <td>Female</td>\n",
              "      <td>51</td>\n",
              "      <td>RG281</td>\n",
              "      <td>Entrepreneur</td>\n",
              "      <td>X3</td>\n",
              "      <td>99</td>\n",
              "      <td>NaN</td>\n",
              "      <td>552992</td>\n",
              "      <td>No</td>\n",
              "      <td>1</td>\n",
              "    </tr>\n",
              "    <tr>\n",
              "      <th>WIZBXYQZ</th>\n",
              "      <td>WIZBXYQZ</td>\n",
              "      <td>Female</td>\n",
              "      <td>50</td>\n",
              "      <td>RG277</td>\n",
              "      <td>Self_Employed</td>\n",
              "      <td>X2</td>\n",
              "      <td>92</td>\n",
              "      <td>NaN</td>\n",
              "      <td>1385124</td>\n",
              "      <td>No</td>\n",
              "      <td>1</td>\n",
              "    </tr>\n",
              "    <tr>\n",
              "      <th>MARTXU7T</th>\n",
              "      <td>MARTXU7T</td>\n",
              "      <td>Male</td>\n",
              "      <td>53</td>\n",
              "      <td>RG254</td>\n",
              "      <td>Other</td>\n",
              "      <td>X2</td>\n",
              "      <td>19</td>\n",
              "      <td>NaN</td>\n",
              "      <td>1141825</td>\n",
              "      <td>Yes</td>\n",
              "      <td>1</td>\n",
              "    </tr>\n",
              "    <tr>\n",
              "      <th>KSCFGXV3</th>\n",
              "      <td>KSCFGXV3</td>\n",
              "      <td>Female</td>\n",
              "      <td>46</td>\n",
              "      <td>RG268</td>\n",
              "      <td>Self_Employed</td>\n",
              "      <td>X2</td>\n",
              "      <td>19</td>\n",
              "      <td>NaN</td>\n",
              "      <td>993195</td>\n",
              "      <td>No</td>\n",
              "      <td>1</td>\n",
              "    </tr>\n",
              "    <tr>\n",
              "      <th>BPAWWXZN</th>\n",
              "      <td>BPAWWXZN</td>\n",
              "      <td>Male</td>\n",
              "      <td>51</td>\n",
              "      <td>RG284</td>\n",
              "      <td>Self_Employed</td>\n",
              "      <td>X3</td>\n",
              "      <td>109</td>\n",
              "      <td>NaN</td>\n",
              "      <td>1925586</td>\n",
              "      <td>No</td>\n",
              "      <td>0</td>\n",
              "    </tr>\n",
              "  </tbody>\n",
              "</table>\n",
              "<p>29325 rows × 11 columns</p>\n",
              "</div>"
            ],
            "text/plain": [
              "                ID  Gender  Age  ... Avg_Account_Balance Is_Active Is_Lead\n",
              "ID                               ...                                      \n",
              "ETQCZFEJ  ETQCZFEJ    Male   62  ...             1056750       Yes       1\n",
              "UJ2NJKKL  UJ2NJKKL    Male   33  ...              517063       Yes       1\n",
              "ABPMK4WU  ABPMK4WU  Female   32  ...             1072850       Yes       1\n",
              "MTEIXMB9  MTEIXMB9  Female   41  ...              962383        No       1\n",
              "6WX9JDVK  6WX9JDVK  Female   63  ...             1249319       Yes       1\n",
              "...            ...     ...  ...  ...                 ...       ...     ...\n",
              "WVJFPREY  WVJFPREY  Female   51  ...              552992        No       1\n",
              "WIZBXYQZ  WIZBXYQZ  Female   50  ...             1385124        No       1\n",
              "MARTXU7T  MARTXU7T    Male   53  ...             1141825       Yes       1\n",
              "KSCFGXV3  KSCFGXV3  Female   46  ...              993195        No       1\n",
              "BPAWWXZN  BPAWWXZN    Male   51  ...             1925586        No       0\n",
              "\n",
              "[29325 rows x 11 columns]"
            ]
          },
          "metadata": {
            "tags": []
          },
          "execution_count": 708
        }
      ]
    },
    {
      "cell_type": "code",
      "metadata": {
        "id": "--KzMrHpw7sL"
      },
      "source": [
        "## Replacing all NaN with NO for Credit_Product Column."
      ],
      "execution_count": 709,
      "outputs": []
    },
    {
      "cell_type": "code",
      "metadata": {
        "id": "EZ-2oFodw7sL"
      },
      "source": [
        "leads_df['Credit_Product'] = leads_df['Credit_Product'].replace(np.nan,'No')\n",
        "\n",
        "## Apply to test as well\n",
        "leads_df_test['Credit_Product'] = leads_df_test['Credit_Product'].replace(np.nan,'No')\n"
      ],
      "execution_count": 710,
      "outputs": []
    },
    {
      "cell_type": "code",
      "metadata": {
        "colab": {
          "base_uri": "https://localhost:8080/"
        },
        "id": "oK3onbSvw7sL",
        "outputId": "2a2bd249-4354-47dd-cfe8-657ef4fbc838"
      },
      "source": [
        "# Checking Credit Product Column values and %ge distribution\n",
        "(leads_df.Credit_Product.value_counts()/leads_df.Credit_Product.count())*100"
      ],
      "execution_count": 711,
      "outputs": [
        {
          "output_type": "execute_result",
          "data": {
            "text/plain": [
              "No     70.681453\n",
              "Yes    29.318547\n",
              "Name: Credit_Product, dtype: float64"
            ]
          },
          "metadata": {
            "tags": []
          },
          "execution_count": 711
        }
      ]
    },
    {
      "cell_type": "code",
      "metadata": {
        "colab": {
          "base_uri": "https://localhost:8080/"
        },
        "id": "YHMfzPlWw7sM",
        "outputId": "7bd75bad-2664-4c0f-947f-53c9e82dad57"
      },
      "source": [
        "leads_df.count()"
      ],
      "execution_count": 712,
      "outputs": [
        {
          "output_type": "execute_result",
          "data": {
            "text/plain": [
              "ID                     245725\n",
              "Gender                 245725\n",
              "Age                    245725\n",
              "Region_Code            245725\n",
              "Occupation             245725\n",
              "Channel_Code           245725\n",
              "Vintage                245725\n",
              "Credit_Product         245725\n",
              "Avg_Account_Balance    245725\n",
              "Is_Active              245725\n",
              "Is_Lead                245725\n",
              "dtype: int64"
            ]
          },
          "metadata": {
            "tags": []
          },
          "execution_count": 712
        }
      ]
    },
    {
      "cell_type": "code",
      "metadata": {
        "id": "KssYlWZFw7sM"
      },
      "source": [
        "## EDA on each column one by one - Univariate Analaysis"
      ],
      "execution_count": 713,
      "outputs": []
    },
    {
      "cell_type": "code",
      "metadata": {
        "colab": {
          "base_uri": "https://localhost:8080/",
          "height": 1000
        },
        "id": "l2TW1aXtw7sM",
        "outputId": "c00aafdf-e4b5-47a8-f9af-5cdea01d86d6"
      },
      "source": [
        "plt.figure(figsize = (20,40))\n",
        "\n",
        "plt.subplot(9,1,1)\n",
        "sns.countplot(leads_df['Gender'])\n",
        "plt.title('Gender')\n",
        "\n",
        "plt.subplot(9,1,2)\n",
        "sns.countplot(leads_df['Age'])\n",
        "plt.title('Age')\n",
        "\n",
        "plt.subplot(9,1,3)\n",
        "sns.countplot(leads_df['Region_Code'])\n",
        "plt.title('Region Code')\n",
        "\n",
        "plt.subplot(9,1,4)\n",
        "sns.countplot(leads_df['Occupation'])\n",
        "plt.title('Occupation')\n",
        "\n",
        "plt.subplot(9,1,5)\n",
        "sns.countplot(leads_df['Channel_Code'])\n",
        "plt.title('Channel_Code')\n",
        "\n",
        "plt.subplot(9,1,6)\n",
        "sns.countplot(leads_df['Vintage'])\n",
        "plt.title('Vintage')\n",
        "\n",
        "\n",
        "plt.subplot(9,1,7)\n",
        "sns.countplot(leads_df['Is_Active'])\n",
        "plt.title('Is_Active')\n",
        "\n",
        "plt.subplot(9,1,8)\n",
        "sns.countplot(leads_df['Is_Lead'])\n",
        "plt.title('Is_Lead')\n",
        "\n",
        "plt.subplot(9,1,9)\n",
        "sns.countplot(leads_df['Credit_Product'])\n",
        "plt.title('Credit_Product')\n",
        "\n",
        "\n",
        "\n",
        "plt.show()"
      ],
      "execution_count": 714,
      "outputs": [
        {
          "output_type": "display_data",
          "data": {
            "image/png": "[encoded data removed]",
            "text/plain": [
              "<Figure size 1440x2880 with 9 Axes>"
            ]
          },
          "metadata": {
            "tags": [],
            "needs_background": "light"
          }
        }
      ]
    },
    {
      "cell_type": "code",
      "metadata": {
        "colab": {
          "base_uri": "https://localhost:8080/",
          "height": 488
        },
        "id": "WfK4qNoYw7sN",
        "outputId": "f29f1066-214d-467e-d3cd-28aff79b9f87"
      },
      "source": [
        "#Checking correlations of numeric values\n",
        "plt.figure(figsize=(10,8))\n",
        "\n",
        "# heatmap\n",
        "sns.heatmap(leads_df.corr(), cmap=\"YlGnBu\", annot=True)\n",
        "plt.show()"
      ],
      "execution_count": 715,
      "outputs": [
        {
          "output_type": "display_data",
          "data": {
            "image/png": "[encoded data removed]",
            "text/plain": [
              "<Figure size 720x576 with 2 Axes>"
            ]
          },
          "metadata": {
            "tags": [],
            "needs_background": "light"
          }
        }
      ]
    },
    {
      "cell_type": "code",
      "metadata": {
        "colab": {
          "base_uri": "https://localhost:8080/",
          "height": 297
        },
        "id": "tl2a-yoEw7sN",
        "outputId": "68dd2834-6458-4eed-db7d-f75ec6eb14cd"
      },
      "source": [
        "sns.scatterplot(x= \"Avg_Account_Balance\", y = \"Age\", data = leads_df )"
      ],
      "execution_count": 716,
      "outputs": [
        {
          "output_type": "execute_result",
          "data": {
            "text/plain": [
              "<matplotlib.axes._subplots.AxesSubplot at 0x7f93b5220450>"
            ]
          },
          "metadata": {
            "tags": []
          },
          "execution_count": 716
        },
        {
          "output_type": "display_data",
          "data": {
            "image/png": "[encoded data removed]",
            "text/plain": [
              "<Figure size 432x288 with 1 Axes>"
            ]
          },
          "metadata": {
            "tags": [],
            "needs_background": "light"
          }
        }
      ]
    },
    {
      "cell_type": "code",
      "metadata": {
        "colab": {
          "base_uri": "https://localhost:8080/"
        },
        "id": "U-mMTdtnw7sO",
        "outputId": "6e880cfc-bbd7-488e-e4e8-c93eefed0a5d"
      },
      "source": [
        "# Get the categorical columns from the columns list- using object type\n",
        "categorical_cols= leads_df.select_dtypes(include=['object']).columns\n",
        "categorical_cols"
      ],
      "execution_count": 717,
      "outputs": [
        {
          "output_type": "execute_result",
          "data": {
            "text/plain": [
              "Index(['ID', 'Gender', 'Region_Code', 'Occupation', 'Channel_Code',\n",
              "       'Credit_Product', 'Is_Active'],\n",
              "      dtype='object')"
            ]
          },
          "metadata": {
            "tags": []
          },
          "execution_count": 717
        }
      ]
    },
    {
      "cell_type": "code",
      "metadata": {
        "id": "5lvsKEiRw7sP"
      },
      "source": [
        "#### Converting some binary variables (Yes/No) to 0/1"
      ],
      "execution_count": 718,
      "outputs": []
    },
    {
      "cell_type": "code",
      "metadata": {
        "id": "OpN1QvALw7sQ"
      },
      "source": [
        "# List of variables to map\n",
        "\n",
        "varlist =  ['Is_Active', 'Credit_Product']\n",
        "\n",
        "# Defining the map function\n",
        "def binary_map(x):\n",
        "    return x.map({'Yes': 1, \"No\": 0})\n",
        "\n",
        "# Applying the function to the housing list\n",
        "leads_df[varlist] = leads_df[varlist].apply(binary_map)\n"
      ],
      "execution_count": 719,
      "outputs": []
    },
    {
      "cell_type": "code",
      "metadata": {
        "id": "3HcFqYzwkr6E"
      },
      "source": [
        "leads_df_test[varlist] = leads_df_test[varlist].apply(binary_map)"
      ],
      "execution_count": 720,
      "outputs": []
    },
    {
      "cell_type": "code",
      "metadata": {
        "id": "46u4_Qc4w7sT"
      },
      "source": [
        "### Converting Numerical Columns to Categorical Columns"
      ],
      "execution_count": 721,
      "outputs": []
    },
    {
      "cell_type": "code",
      "metadata": {
        "id": "peHQqr5Aw7sU"
      },
      "source": [
        "def age_cat(x):\n",
        "    if 0 < x <= 18:\n",
        "        return 'CA1'\n",
        "    elif 18 < x <= 30:\n",
        "        return 'CA2'\n",
        "    elif 30 < x <= 45:\n",
        "        return 'CA3'\n",
        "    elif 45 < x <= 60:\n",
        "        return 'CA4'\n",
        "    elif 60 < x <= 80:\n",
        "        return 'CA5'\n",
        "    return 'CA6'\n",
        "\n",
        "leads_df[\"Age_Category\"]= leads_df[\"Age\"].apply(age_cat)\n",
        "\n"
      ],
      "execution_count": 722,
      "outputs": []
    },
    {
      "cell_type": "code",
      "metadata": {
        "id": "ABp_-JyxlJJI"
      },
      "source": [
        "leads_df_test[\"Age_Category\"]= leads_df_test[\"Age\"].apply(age_cat)"
      ],
      "execution_count": 723,
      "outputs": []
    },
    {
      "cell_type": "code",
      "metadata": {
        "id": "jMLU9UY_w7sU"
      },
      "source": [
        "def vintage_cat(x):\n",
        "    if 0 < x <= 18:\n",
        "        return 'CV1'\n",
        "    elif 18 < x <= 30:\n",
        "        return 'CV2'\n",
        "    elif 30 < x <= 45:\n",
        "        return 'CV3'\n",
        "    elif 45 < x <= 60:\n",
        "        return 'CV4'\n",
        "    elif 60 < x <= 80:\n",
        "        return 'CV5'\n",
        "    elif 80 < x <= 100:\n",
        "        return 'CV6'\n",
        "    return 'CV7'\n",
        "\n",
        "leads_df[\"Vintage_Category\"]= leads_df[\"Vintage\"].apply(vintage_cat)\n",
        "leads_df_test[\"Vintage_Category\"]= leads_df_test[\"Vintage\"].apply(vintage_cat)\n"
      ],
      "execution_count": 724,
      "outputs": []
    },
    {
      "cell_type": "code",
      "metadata": {
        "id": "dtzO0qNTw7sV"
      },
      "source": [
        "def avg_act_bal_cat(x):\n",
        "    if 0 < x <= 10000:\n",
        "        return 'CAB1'\n",
        "    elif 10000 < x <= 100000:\n",
        "        return 'CAB2'\n",
        "    elif 100000 < x <= 400000:\n",
        "        return 'CAB3'\n",
        "    elif 400000 < x <= 700000:\n",
        "        return 'CAB4'\n",
        "    elif 700000 < x <= 1000000:\n",
        "        return 'CAB5'\n",
        "    elif 1000000 < x <= 1500000:\n",
        "        return 'CAB6'\n",
        "    elif 1500000 < x <= 2500000:\n",
        "        return 'CAB7'\n",
        "    elif 2500000 < x <= 4000000:\n",
        "        return 'CAB8'\n",
        "    elif 4000000 < x <= 6000000:\n",
        "        return 'CAB9'\n",
        "    return 'CAB10'\n",
        "\n",
        "leads_df[\"Avg_AcBal_Category\"]= leads_df[\"Avg_Account_Balance\"].apply(avg_act_bal_cat)\n",
        "leads_df_test[\"Avg_AcBal_Category\"]= leads_df_test[\"Avg_Account_Balance\"].apply(avg_act_bal_cat)\n"
      ],
      "execution_count": 725,
      "outputs": []
    },
    {
      "cell_type": "code",
      "metadata": {
        "colab": {
          "base_uri": "https://localhost:8080/",
          "height": 1000
        },
        "id": "lMLwFj9vw7sW",
        "outputId": "03e850c1-20dc-4aca-84bb-6b46b77b052f"
      },
      "source": [
        "plt.figure(figsize = (20,40))\n",
        "\n",
        "plt.subplot(10,1,1)\n",
        "sns.countplot(leads_df['Gender'])\n",
        "#plt.title('Gender')\n",
        "\n",
        "plt.subplot(10,1,2)\n",
        "sns.countplot(leads_df['Age_Category'])\n",
        "#plt.title('Age')\n",
        "\n",
        "plt.subplot(10,1,3)\n",
        "sns.countplot(leads_df['Region_Code'])\n",
        "#plt.title('Region Code')\n",
        "\n",
        "plt.subplot(10,1,4)\n",
        "sns.countplot(leads_df['Occupation'])\n",
        "#plt.title('Occupation')\n",
        "\n",
        "plt.subplot(10,1,5)\n",
        "sns.countplot(leads_df['Channel_Code'])\n",
        "#plt.title('Channel_Code')\n",
        "\n",
        "plt.subplot(10,1,6)\n",
        "sns.countplot(leads_df['Vintage_Category'])\n",
        "#plt.title('Vintage')\n",
        "\n",
        "\n",
        "plt.subplot(10,1,7)\n",
        "sns.countplot(leads_df['Is_Active'])\n",
        "#plt.title('Is_Active')\n",
        "\n",
        "plt.subplot(10,1,8)\n",
        "sns.countplot(leads_df['Is_Lead'])\n",
        "#plt.title('Is_Lead')\n",
        "\n",
        "plt.subplot(10,1,9)\n",
        "sns.countplot(leads_df['Credit_Product'])\n",
        "#plt.title('Credit_Product')\n",
        "\n",
        "plt.subplot(10,1,10)\n",
        "sns.countplot(leads_df['Avg_AcBal_Category'])\n",
        "#plt.title('Credit_Product')\n",
        "\n",
        "plt.show()"
      ],
      "execution_count": 726,
      "outputs": [
        {
          "output_type": "display_data",
          "data": {
            "image/png": "[encoded data removed]",
            "text/plain": [
              "<Figure size 1440x2880 with 10 Axes>"
            ]
          },
          "metadata": {
            "tags": [],
            "needs_background": "light"
          }
        }
      ]
    },
    {
      "cell_type": "code",
      "metadata": {
        "id": "x7K6A7Szw7sX"
      },
      "source": [
        "# Create dummy variables using the 'get_dummies' command\n",
        "dummy = pd.get_dummies(leads_df[['Gender', 'Age_Category', 'Region_Code', 'Occupation',\n",
        "                              'Channel_Code', 'Vintage_Category',\n",
        "                              'Avg_AcBal_Category']], drop_first=True)\n",
        "\n",
        "# Create dummy variables using the 'get_dummies' command\n",
        "dummy_test = pd.get_dummies(leads_df_test[['Gender', 'Age_Category', 'Region_Code', 'Occupation',\n",
        "                              'Channel_Code', 'Vintage_Category',\n",
        "                              'Avg_AcBal_Category']], drop_first=True)"
      ],
      "execution_count": 727,
      "outputs": []
    },
    {
      "cell_type": "code",
      "metadata": {
        "id": "YtfWE5J4w7sY"
      },
      "source": [
        "# Add the results to the master dataframe\n",
        "leads_df = pd.concat([leads_df, dummy], axis=1)\n",
        "leads_df_test = pd.concat([leads_df_test, dummy_test], axis=1)"
      ],
      "execution_count": 728,
      "outputs": []
    },
    {
      "cell_type": "code",
      "metadata": {
        "id": "7HBdd9Icw7sY"
      },
      "source": [
        " ## Train-Test Split & Logistic Regression Model Building:"
      ],
      "execution_count": 729,
      "outputs": []
    },
    {
      "cell_type": "code",
      "metadata": {
        "colab": {
          "base_uri": "https://localhost:8080/",
          "height": 245
        },
        "id": "fjSg2eFHw7sZ",
        "outputId": "1ee4c869-7d36-4930-b685-a40c1ea800fc"
      },
      "source": [
        "# Put all the feature variables in X, also drop original variables of already dummified variables.\n",
        "\n",
        "X = leads_df.drop(['Is_Lead','ID','Age','Vintage','Avg_Account_Balance','Gender', 'Age_Category', 'Region_Code', 'Occupation',\n",
        "                              'Channel_Code', 'Vintage_Category',\n",
        "                              'Avg_AcBal_Category'], 1)\n",
        "X.head()\n",
        "leads_df_test= leads_df_test.drop(['ID','Age','Vintage','Avg_Account_Balance','Gender', 'Age_Category', 'Region_Code', 'Occupation',\n",
        "                              'Channel_Code', 'Vintage_Category',\n",
        "                              'Avg_AcBal_Category'], 1)\n",
        "leads_df_test.head()\n"
      ],
      "execution_count": 730,
      "outputs": [
        {
          "output_type": "execute_result",
          "data": {
            "text/html": [
              "<div>\n",
              "<style scoped>\n",
              "    .dataframe tbody tr th:only-of-type {\n",
              "        vertical-align: middle;\n",
              "    }\n",
              "\n",
              "    .dataframe tbody tr th {\n",
              "        vertical-align: top;\n",
              "    }\n",
              "\n",
              "    .dataframe thead th {\n",
              "        text-align: right;\n",
              "    }\n",
              "</style>\n",
              "<table border=\"1\" class=\"dataframe\">\n",
              "  <thead>\n",
              "    <tr style=\"text-align: right;\">\n",
              "      <th></th>\n",
              "      <th>Credit_Product</th>\n",
              "      <th>Is_Active</th>\n",
              "      <th>Gender_Male</th>\n",
              "      <th>Age_Category_CA3</th>\n",
              "      <th>Age_Category_CA4</th>\n",
              "      <th>Age_Category_CA5</th>\n",
              "      <th>Age_Category_CA6</th>\n",
              "      <th>Region_Code_RG251</th>\n",
              "      <th>Region_Code_RG252</th>\n",
              "      <th>Region_Code_RG253</th>\n",
              "      <th>Region_Code_RG254</th>\n",
              "      <th>Region_Code_RG255</th>\n",
              "      <th>Region_Code_RG256</th>\n",
              "      <th>Region_Code_RG257</th>\n",
              "      <th>Region_Code_RG258</th>\n",
              "      <th>Region_Code_RG259</th>\n",
              "      <th>Region_Code_RG260</th>\n",
              "      <th>Region_Code_RG261</th>\n",
              "      <th>Region_Code_RG262</th>\n",
              "      <th>Region_Code_RG263</th>\n",
              "      <th>Region_Code_RG264</th>\n",
              "      <th>Region_Code_RG265</th>\n",
              "      <th>Region_Code_RG266</th>\n",
              "      <th>Region_Code_RG267</th>\n",
              "      <th>Region_Code_RG268</th>\n",
              "      <th>Region_Code_RG269</th>\n",
              "      <th>Region_Code_RG270</th>\n",
              "      <th>Region_Code_RG271</th>\n",
              "      <th>Region_Code_RG272</th>\n",
              "      <th>Region_Code_RG273</th>\n",
              "      <th>Region_Code_RG274</th>\n",
              "      <th>Region_Code_RG275</th>\n",
              "      <th>Region_Code_RG276</th>\n",
              "      <th>Region_Code_RG277</th>\n",
              "      <th>Region_Code_RG278</th>\n",
              "      <th>Region_Code_RG279</th>\n",
              "      <th>Region_Code_RG280</th>\n",
              "      <th>Region_Code_RG281</th>\n",
              "      <th>Region_Code_RG282</th>\n",
              "      <th>Region_Code_RG283</th>\n",
              "      <th>Region_Code_RG284</th>\n",
              "      <th>Occupation_Other</th>\n",
              "      <th>Occupation_Salaried</th>\n",
              "      <th>Occupation_Self_Employed</th>\n",
              "      <th>Channel_Code_X2</th>\n",
              "      <th>Channel_Code_X3</th>\n",
              "      <th>Channel_Code_X4</th>\n",
              "      <th>Vintage_Category_CV2</th>\n",
              "      <th>Vintage_Category_CV3</th>\n",
              "      <th>Vintage_Category_CV4</th>\n",
              "      <th>Vintage_Category_CV5</th>\n",
              "      <th>Vintage_Category_CV6</th>\n",
              "      <th>Vintage_Category_CV7</th>\n",
              "      <th>Avg_AcBal_Category_CAB2</th>\n",
              "      <th>Avg_AcBal_Category_CAB3</th>\n",
              "      <th>Avg_AcBal_Category_CAB4</th>\n",
              "      <th>Avg_AcBal_Category_CAB5</th>\n",
              "      <th>Avg_AcBal_Category_CAB6</th>\n",
              "      <th>Avg_AcBal_Category_CAB7</th>\n",
              "      <th>Avg_AcBal_Category_CAB8</th>\n",
              "      <th>Avg_AcBal_Category_CAB9</th>\n",
              "    </tr>\n",
              "    <tr>\n",
              "      <th>ID</th>\n",
              "      <th></th>\n",
              "      <th></th>\n",
              "      <th></th>\n",
              "      <th></th>\n",
              "      <th></th>\n",
              "      <th></th>\n",
              "      <th></th>\n",
              "      <th></th>\n",
              "      <th></th>\n",
              "      <th></th>\n",
              "      <th></th>\n",
              "      <th></th>\n",
              "      <th></th>\n",
              "      <th></th>\n",
              "      <th></th>\n",
              "      <th></th>\n",
              "      <th></th>\n",
              "      <th></th>\n",
              "      <th></th>\n",
              "      <th></th>\n",
              "      <th></th>\n",
              "      <th></th>\n",
              "      <th></th>\n",
              "      <th></th>\n",
              "      <th></th>\n",
              "      <th></th>\n",
              "      <th></th>\n",
              "      <th></th>\n",
              "      <th></th>\n",
              "      <th></th>\n",
              "      <th></th>\n",
              "      <th></th>\n",
              "      <th></th>\n",
              "      <th></th>\n",
              "      <th></th>\n",
              "      <th></th>\n",
              "      <th></th>\n",
              "      <th></th>\n",
              "      <th></th>\n",
              "      <th></th>\n",
              "      <th></th>\n",
              "      <th></th>\n",
              "      <th></th>\n",
              "      <th></th>\n",
              "      <th></th>\n",
              "      <th></th>\n",
              "      <th></th>\n",
              "      <th></th>\n",
              "      <th></th>\n",
              "      <th></th>\n",
              "      <th></th>\n",
              "      <th></th>\n",
              "      <th></th>\n",
              "      <th></th>\n",
              "      <th></th>\n",
              "      <th></th>\n",
              "      <th></th>\n",
              "      <th></th>\n",
              "      <th></th>\n",
              "      <th></th>\n",
              "      <th></th>\n",
              "    </tr>\n",
              "  </thead>\n",
              "  <tbody>\n",
              "    <tr>\n",
              "      <th>VBENBARO</th>\n",
              "      <td>1</td>\n",
              "      <td>0</td>\n",
              "      <td>1</td>\n",
              "      <td>0</td>\n",
              "      <td>0</td>\n",
              "      <td>0</td>\n",
              "      <td>0</td>\n",
              "      <td>0</td>\n",
              "      <td>0</td>\n",
              "      <td>0</td>\n",
              "      <td>1</td>\n",
              "      <td>0</td>\n",
              "      <td>0</td>\n",
              "      <td>0</td>\n",
              "      <td>0</td>\n",
              "      <td>0</td>\n",
              "      <td>0</td>\n",
              "      <td>0</td>\n",
              "      <td>0</td>\n",
              "      <td>0</td>\n",
              "      <td>0</td>\n",
              "      <td>0</td>\n",
              "      <td>0</td>\n",
              "      <td>0</td>\n",
              "      <td>0</td>\n",
              "      <td>0</td>\n",
              "      <td>0</td>\n",
              "      <td>0</td>\n",
              "      <td>0</td>\n",
              "      <td>0</td>\n",
              "      <td>0</td>\n",
              "      <td>0</td>\n",
              "      <td>0</td>\n",
              "      <td>0</td>\n",
              "      <td>0</td>\n",
              "      <td>0</td>\n",
              "      <td>0</td>\n",
              "      <td>0</td>\n",
              "      <td>0</td>\n",
              "      <td>0</td>\n",
              "      <td>0</td>\n",
              "      <td>1</td>\n",
              "      <td>0</td>\n",
              "      <td>0</td>\n",
              "      <td>0</td>\n",
              "      <td>0</td>\n",
              "      <td>0</td>\n",
              "      <td>1</td>\n",
              "      <td>0</td>\n",
              "      <td>0</td>\n",
              "      <td>0</td>\n",
              "      <td>0</td>\n",
              "      <td>0</td>\n",
              "      <td>0</td>\n",
              "      <td>0</td>\n",
              "      <td>0</td>\n",
              "      <td>1</td>\n",
              "      <td>0</td>\n",
              "      <td>0</td>\n",
              "      <td>0</td>\n",
              "      <td>0</td>\n",
              "    </tr>\n",
              "    <tr>\n",
              "      <th>CCMEWNKY</th>\n",
              "      <td>0</td>\n",
              "      <td>0</td>\n",
              "      <td>1</td>\n",
              "      <td>1</td>\n",
              "      <td>0</td>\n",
              "      <td>0</td>\n",
              "      <td>0</td>\n",
              "      <td>0</td>\n",
              "      <td>0</td>\n",
              "      <td>0</td>\n",
              "      <td>0</td>\n",
              "      <td>0</td>\n",
              "      <td>0</td>\n",
              "      <td>0</td>\n",
              "      <td>0</td>\n",
              "      <td>0</td>\n",
              "      <td>0</td>\n",
              "      <td>0</td>\n",
              "      <td>0</td>\n",
              "      <td>0</td>\n",
              "      <td>0</td>\n",
              "      <td>0</td>\n",
              "      <td>0</td>\n",
              "      <td>0</td>\n",
              "      <td>1</td>\n",
              "      <td>0</td>\n",
              "      <td>0</td>\n",
              "      <td>0</td>\n",
              "      <td>0</td>\n",
              "      <td>0</td>\n",
              "      <td>0</td>\n",
              "      <td>0</td>\n",
              "      <td>0</td>\n",
              "      <td>0</td>\n",
              "      <td>0</td>\n",
              "      <td>0</td>\n",
              "      <td>0</td>\n",
              "      <td>0</td>\n",
              "      <td>0</td>\n",
              "      <td>0</td>\n",
              "      <td>0</td>\n",
              "      <td>1</td>\n",
              "      <td>0</td>\n",
              "      <td>0</td>\n",
              "      <td>1</td>\n",
              "      <td>0</td>\n",
              "      <td>0</td>\n",
              "      <td>0</td>\n",
              "      <td>0</td>\n",
              "      <td>1</td>\n",
              "      <td>0</td>\n",
              "      <td>0</td>\n",
              "      <td>0</td>\n",
              "      <td>0</td>\n",
              "      <td>0</td>\n",
              "      <td>0</td>\n",
              "      <td>1</td>\n",
              "      <td>0</td>\n",
              "      <td>0</td>\n",
              "      <td>0</td>\n",
              "      <td>0</td>\n",
              "    </tr>\n",
              "    <tr>\n",
              "      <th>VK3KGA9M</th>\n",
              "      <td>0</td>\n",
              "      <td>0</td>\n",
              "      <td>1</td>\n",
              "      <td>1</td>\n",
              "      <td>0</td>\n",
              "      <td>0</td>\n",
              "      <td>0</td>\n",
              "      <td>0</td>\n",
              "      <td>0</td>\n",
              "      <td>0</td>\n",
              "      <td>0</td>\n",
              "      <td>0</td>\n",
              "      <td>0</td>\n",
              "      <td>0</td>\n",
              "      <td>0</td>\n",
              "      <td>0</td>\n",
              "      <td>0</td>\n",
              "      <td>0</td>\n",
              "      <td>0</td>\n",
              "      <td>0</td>\n",
              "      <td>0</td>\n",
              "      <td>0</td>\n",
              "      <td>0</td>\n",
              "      <td>0</td>\n",
              "      <td>0</td>\n",
              "      <td>0</td>\n",
              "      <td>1</td>\n",
              "      <td>0</td>\n",
              "      <td>0</td>\n",
              "      <td>0</td>\n",
              "      <td>0</td>\n",
              "      <td>0</td>\n",
              "      <td>0</td>\n",
              "      <td>0</td>\n",
              "      <td>0</td>\n",
              "      <td>0</td>\n",
              "      <td>0</td>\n",
              "      <td>0</td>\n",
              "      <td>0</td>\n",
              "      <td>0</td>\n",
              "      <td>0</td>\n",
              "      <td>0</td>\n",
              "      <td>1</td>\n",
              "      <td>0</td>\n",
              "      <td>0</td>\n",
              "      <td>0</td>\n",
              "      <td>0</td>\n",
              "      <td>0</td>\n",
              "      <td>0</td>\n",
              "      <td>0</td>\n",
              "      <td>0</td>\n",
              "      <td>0</td>\n",
              "      <td>0</td>\n",
              "      <td>0</td>\n",
              "      <td>1</td>\n",
              "      <td>0</td>\n",
              "      <td>0</td>\n",
              "      <td>0</td>\n",
              "      <td>0</td>\n",
              "      <td>0</td>\n",
              "      <td>0</td>\n",
              "    </tr>\n",
              "    <tr>\n",
              "      <th>TT8RPZVC</th>\n",
              "      <td>0</td>\n",
              "      <td>0</td>\n",
              "      <td>1</td>\n",
              "      <td>0</td>\n",
              "      <td>0</td>\n",
              "      <td>0</td>\n",
              "      <td>0</td>\n",
              "      <td>0</td>\n",
              "      <td>0</td>\n",
              "      <td>0</td>\n",
              "      <td>0</td>\n",
              "      <td>0</td>\n",
              "      <td>0</td>\n",
              "      <td>0</td>\n",
              "      <td>0</td>\n",
              "      <td>0</td>\n",
              "      <td>0</td>\n",
              "      <td>0</td>\n",
              "      <td>0</td>\n",
              "      <td>0</td>\n",
              "      <td>0</td>\n",
              "      <td>0</td>\n",
              "      <td>0</td>\n",
              "      <td>0</td>\n",
              "      <td>0</td>\n",
              "      <td>0</td>\n",
              "      <td>0</td>\n",
              "      <td>0</td>\n",
              "      <td>1</td>\n",
              "      <td>0</td>\n",
              "      <td>0</td>\n",
              "      <td>0</td>\n",
              "      <td>0</td>\n",
              "      <td>0</td>\n",
              "      <td>0</td>\n",
              "      <td>0</td>\n",
              "      <td>0</td>\n",
              "      <td>0</td>\n",
              "      <td>0</td>\n",
              "      <td>0</td>\n",
              "      <td>0</td>\n",
              "      <td>1</td>\n",
              "      <td>0</td>\n",
              "      <td>0</td>\n",
              "      <td>0</td>\n",
              "      <td>0</td>\n",
              "      <td>0</td>\n",
              "      <td>0</td>\n",
              "      <td>1</td>\n",
              "      <td>0</td>\n",
              "      <td>0</td>\n",
              "      <td>0</td>\n",
              "      <td>0</td>\n",
              "      <td>0</td>\n",
              "      <td>0</td>\n",
              "      <td>0</td>\n",
              "      <td>1</td>\n",
              "      <td>0</td>\n",
              "      <td>0</td>\n",
              "      <td>0</td>\n",
              "      <td>0</td>\n",
              "    </tr>\n",
              "    <tr>\n",
              "      <th>SHQZEYTZ</th>\n",
              "      <td>0</td>\n",
              "      <td>0</td>\n",
              "      <td>0</td>\n",
              "      <td>0</td>\n",
              "      <td>0</td>\n",
              "      <td>0</td>\n",
              "      <td>0</td>\n",
              "      <td>0</td>\n",
              "      <td>0</td>\n",
              "      <td>0</td>\n",
              "      <td>0</td>\n",
              "      <td>0</td>\n",
              "      <td>0</td>\n",
              "      <td>0</td>\n",
              "      <td>0</td>\n",
              "      <td>0</td>\n",
              "      <td>0</td>\n",
              "      <td>0</td>\n",
              "      <td>0</td>\n",
              "      <td>0</td>\n",
              "      <td>0</td>\n",
              "      <td>0</td>\n",
              "      <td>0</td>\n",
              "      <td>0</td>\n",
              "      <td>0</td>\n",
              "      <td>0</td>\n",
              "      <td>1</td>\n",
              "      <td>0</td>\n",
              "      <td>0</td>\n",
              "      <td>0</td>\n",
              "      <td>0</td>\n",
              "      <td>0</td>\n",
              "      <td>0</td>\n",
              "      <td>0</td>\n",
              "      <td>0</td>\n",
              "      <td>0</td>\n",
              "      <td>0</td>\n",
              "      <td>0</td>\n",
              "      <td>0</td>\n",
              "      <td>0</td>\n",
              "      <td>0</td>\n",
              "      <td>1</td>\n",
              "      <td>0</td>\n",
              "      <td>0</td>\n",
              "      <td>0</td>\n",
              "      <td>0</td>\n",
              "      <td>0</td>\n",
              "      <td>1</td>\n",
              "      <td>0</td>\n",
              "      <td>0</td>\n",
              "      <td>0</td>\n",
              "      <td>0</td>\n",
              "      <td>0</td>\n",
              "      <td>0</td>\n",
              "      <td>0</td>\n",
              "      <td>1</td>\n",
              "      <td>0</td>\n",
              "      <td>0</td>\n",
              "      <td>0</td>\n",
              "      <td>0</td>\n",
              "      <td>0</td>\n",
              "    </tr>\n",
              "  </tbody>\n",
              "</table>\n",
              "</div>"
            ],
            "text/plain": [
              "          Credit_Product  ...  Avg_AcBal_Category_CAB9\n",
              "ID                        ...                         \n",
              "VBENBARO               1  ...                        0\n",
              "CCMEWNKY               0  ...                        0\n",
              "VK3KGA9M               0  ...                        0\n",
              "TT8RPZVC               0  ...                        0\n",
              "SHQZEYTZ               0  ...                        0\n",
              "\n",
              "[5 rows x 61 columns]"
            ]
          },
          "metadata": {
            "tags": []
          },
          "execution_count": 730
        }
      ]
    },
    {
      "cell_type": "code",
      "metadata": {
        "colab": {
          "base_uri": "https://localhost:8080/"
        },
        "id": "fZ2soHLfw7sa",
        "outputId": "08996cf0-8af9-415d-fa56-0f8f57311df2"
      },
      "source": [
        "# Put the target variable in y\n",
        "Y = leads_df['Is_Lead']\n",
        "Y.head()\n"
      ],
      "execution_count": 731,
      "outputs": [
        {
          "output_type": "execute_result",
          "data": {
            "text/plain": [
              "ID\n",
              "NNVBBKZB    0\n",
              "IDD62UNG    0\n",
              "HD3DSEMC    0\n",
              "BF3NC7KV    0\n",
              "TEASRWXV    0\n",
              "Name: Is_Lead, dtype: int64"
            ]
          },
          "metadata": {
            "tags": []
          },
          "execution_count": 731
        }
      ]
    },
    {
      "cell_type": "code",
      "metadata": {
        "colab": {
          "base_uri": "https://localhost:8080/"
        },
        "id": "6ll4mJzGw7sb",
        "outputId": "9b3b3214-315e-4377-c108-ece443d70c2c"
      },
      "source": [
        "# Split the dataset into 70% train and 30% test\n",
        "\n",
        "X_train, X_test, y_train, y_test = train_test_split(X, Y, train_size=0.7, test_size=0.3, random_state=100)\n",
        "X_train.info()"
      ],
      "execution_count": 732,
      "outputs": [
        {
          "output_type": "stream",
          "text": [
            "<class 'pandas.core.frame.DataFrame'>\n",
            "Index: 172007 entries, L29UAVJD to VEZXWTUJ\n",
            "Data columns (total 61 columns):\n",
            " #   Column                    Non-Null Count   Dtype\n",
            "---  ------                    --------------   -----\n",
            " 0   Credit_Product            172007 non-null  int64\n",
            " 1   Is_Active                 172007 non-null  int64\n",
            " 2   Gender_Male               172007 non-null  uint8\n",
            " 3   Age_Category_CA3          172007 non-null  uint8\n",
            " 4   Age_Category_CA4          172007 non-null  uint8\n",
            " 5   Age_Category_CA5          172007 non-null  uint8\n",
            " 6   Age_Category_CA6          172007 non-null  uint8\n",
            " 7   Region_Code_RG251         172007 non-null  uint8\n",
            " 8   Region_Code_RG252         172007 non-null  uint8\n",
            " 9   Region_Code_RG253         172007 non-null  uint8\n",
            " 10  Region_Code_RG254         172007 non-null  uint8\n",
            " 11  Region_Code_RG255         172007 non-null  uint8\n",
            " 12  Region_Code_RG256         172007 non-null  uint8\n",
            " 13  Region_Code_RG257         172007 non-null  uint8\n",
            " 14  Region_Code_RG258         172007 non-null  uint8\n",
            " 15  Region_Code_RG259         172007 non-null  uint8\n",
            " 16  Region_Code_RG260         172007 non-null  uint8\n",
            " 17  Region_Code_RG261         172007 non-null  uint8\n",
            " 18  Region_Code_RG262         172007 non-null  uint8\n",
            " 19  Region_Code_RG263         172007 non-null  uint8\n",
            " 20  Region_Code_RG264         172007 non-null  uint8\n",
            " 21  Region_Code_RG265         172007 non-null  uint8\n",
            " 22  Region_Code_RG266         172007 non-null  uint8\n",
            " 23  Region_Code_RG267         172007 non-null  uint8\n",
            " 24  Region_Code_RG268         172007 non-null  uint8\n",
            " 25  Region_Code_RG269         172007 non-null  uint8\n",
            " 26  Region_Code_RG270         172007 non-null  uint8\n",
            " 27  Region_Code_RG271         172007 non-null  uint8\n",
            " 28  Region_Code_RG272         172007 non-null  uint8\n",
            " 29  Region_Code_RG273         172007 non-null  uint8\n",
            " 30  Region_Code_RG274         172007 non-null  uint8\n",
            " 31  Region_Code_RG275         172007 non-null  uint8\n",
            " 32  Region_Code_RG276         172007 non-null  uint8\n",
            " 33  Region_Code_RG277         172007 non-null  uint8\n",
            " 34  Region_Code_RG278         172007 non-null  uint8\n",
            " 35  Region_Code_RG279         172007 non-null  uint8\n",
            " 36  Region_Code_RG280         172007 non-null  uint8\n",
            " 37  Region_Code_RG281         172007 non-null  uint8\n",
            " 38  Region_Code_RG282         172007 non-null  uint8\n",
            " 39  Region_Code_RG283         172007 non-null  uint8\n",
            " 40  Region_Code_RG284         172007 non-null  uint8\n",
            " 41  Occupation_Other          172007 non-null  uint8\n",
            " 42  Occupation_Salaried       172007 non-null  uint8\n",
            " 43  Occupation_Self_Employed  172007 non-null  uint8\n",
            " 44  Channel_Code_X2           172007 non-null  uint8\n",
            " 45  Channel_Code_X3           172007 non-null  uint8\n",
            " 46  Channel_Code_X4           172007 non-null  uint8\n",
            " 47  Vintage_Category_CV2      172007 non-null  uint8\n",
            " 48  Vintage_Category_CV3      172007 non-null  uint8\n",
            " 49  Vintage_Category_CV4      172007 non-null  uint8\n",
            " 50  Vintage_Category_CV5      172007 non-null  uint8\n",
            " 51  Vintage_Category_CV6      172007 non-null  uint8\n",
            " 52  Vintage_Category_CV7      172007 non-null  uint8\n",
            " 53  Avg_AcBal_Category_CAB2   172007 non-null  uint8\n",
            " 54  Avg_AcBal_Category_CAB3   172007 non-null  uint8\n",
            " 55  Avg_AcBal_Category_CAB4   172007 non-null  uint8\n",
            " 56  Avg_AcBal_Category_CAB5   172007 non-null  uint8\n",
            " 57  Avg_AcBal_Category_CAB6   172007 non-null  uint8\n",
            " 58  Avg_AcBal_Category_CAB7   172007 non-null  uint8\n",
            " 59  Avg_AcBal_Category_CAB8   172007 non-null  uint8\n",
            " 60  Avg_AcBal_Category_CAB9   172007 non-null  uint8\n",
            "dtypes: int64(2), uint8(59)\n",
            "memory usage: 13.6+ MB\n"
          ],
          "name": "stdout"
        }
      ]
    },
    {
      "cell_type": "code",
      "metadata": {
        "colab": {
          "base_uri": "https://localhost:8080/",
          "height": 245
        },
        "id": "igQkTCfHw7sc",
        "outputId": "b23840cb-383b-4e5f-f072-e4d4d6318cb6"
      },
      "source": [
        "X_train.head()"
      ],
      "execution_count": 733,
      "outputs": [
        {
          "output_type": "execute_result",
          "data": {
            "text/html": [
              "<div>\n",
              "<style scoped>\n",
              "    .dataframe tbody tr th:only-of-type {\n",
              "        vertical-align: middle;\n",
              "    }\n",
              "\n",
              "    .dataframe tbody tr th {\n",
              "        vertical-align: top;\n",
              "    }\n",
              "\n",
              "    .dataframe thead th {\n",
              "        text-align: right;\n",
              "    }\n",
              "</style>\n",
              "<table border=\"1\" class=\"dataframe\">\n",
              "  <thead>\n",
              "    <tr style=\"text-align: right;\">\n",
              "      <th></th>\n",
              "      <th>Credit_Product</th>\n",
              "      <th>Is_Active</th>\n",
              "      <th>Gender_Male</th>\n",
              "      <th>Age_Category_CA3</th>\n",
              "      <th>Age_Category_CA4</th>\n",
              "      <th>Age_Category_CA5</th>\n",
              "      <th>Age_Category_CA6</th>\n",
              "      <th>Region_Code_RG251</th>\n",
              "      <th>Region_Code_RG252</th>\n",
              "      <th>Region_Code_RG253</th>\n",
              "      <th>Region_Code_RG254</th>\n",
              "      <th>Region_Code_RG255</th>\n",
              "      <th>Region_Code_RG256</th>\n",
              "      <th>Region_Code_RG257</th>\n",
              "      <th>Region_Code_RG258</th>\n",
              "      <th>Region_Code_RG259</th>\n",
              "      <th>Region_Code_RG260</th>\n",
              "      <th>Region_Code_RG261</th>\n",
              "      <th>Region_Code_RG262</th>\n",
              "      <th>Region_Code_RG263</th>\n",
              "      <th>Region_Code_RG264</th>\n",
              "      <th>Region_Code_RG265</th>\n",
              "      <th>Region_Code_RG266</th>\n",
              "      <th>Region_Code_RG267</th>\n",
              "      <th>Region_Code_RG268</th>\n",
              "      <th>Region_Code_RG269</th>\n",
              "      <th>Region_Code_RG270</th>\n",
              "      <th>Region_Code_RG271</th>\n",
              "      <th>Region_Code_RG272</th>\n",
              "      <th>Region_Code_RG273</th>\n",
              "      <th>Region_Code_RG274</th>\n",
              "      <th>Region_Code_RG275</th>\n",
              "      <th>Region_Code_RG276</th>\n",
              "      <th>Region_Code_RG277</th>\n",
              "      <th>Region_Code_RG278</th>\n",
              "      <th>Region_Code_RG279</th>\n",
              "      <th>Region_Code_RG280</th>\n",
              "      <th>Region_Code_RG281</th>\n",
              "      <th>Region_Code_RG282</th>\n",
              "      <th>Region_Code_RG283</th>\n",
              "      <th>Region_Code_RG284</th>\n",
              "      <th>Occupation_Other</th>\n",
              "      <th>Occupation_Salaried</th>\n",
              "      <th>Occupation_Self_Employed</th>\n",
              "      <th>Channel_Code_X2</th>\n",
              "      <th>Channel_Code_X3</th>\n",
              "      <th>Channel_Code_X4</th>\n",
              "      <th>Vintage_Category_CV2</th>\n",
              "      <th>Vintage_Category_CV3</th>\n",
              "      <th>Vintage_Category_CV4</th>\n",
              "      <th>Vintage_Category_CV5</th>\n",
              "      <th>Vintage_Category_CV6</th>\n",
              "      <th>Vintage_Category_CV7</th>\n",
              "      <th>Avg_AcBal_Category_CAB2</th>\n",
              "      <th>Avg_AcBal_Category_CAB3</th>\n",
              "      <th>Avg_AcBal_Category_CAB4</th>\n",
              "      <th>Avg_AcBal_Category_CAB5</th>\n",
              "      <th>Avg_AcBal_Category_CAB6</th>\n",
              "      <th>Avg_AcBal_Category_CAB7</th>\n",
              "      <th>Avg_AcBal_Category_CAB8</th>\n",
              "      <th>Avg_AcBal_Category_CAB9</th>\n",
              "    </tr>\n",
              "    <tr>\n",
              "      <th>ID</th>\n",
              "      <th></th>\n",
              "      <th></th>\n",
              "      <th></th>\n",
              "      <th></th>\n",
              "      <th></th>\n",
              "      <th></th>\n",
              "      <th></th>\n",
              "      <th></th>\n",
              "      <th></th>\n",
              "      <th></th>\n",
              "      <th></th>\n",
              "      <th></th>\n",
              "      <th></th>\n",
              "      <th></th>\n",
              "      <th></th>\n",
              "      <th></th>\n",
              "      <th></th>\n",
              "      <th></th>\n",
              "      <th></th>\n",
              "      <th></th>\n",
              "      <th></th>\n",
              "      <th></th>\n",
              "      <th></th>\n",
              "      <th></th>\n",
              "      <th></th>\n",
              "      <th></th>\n",
              "      <th></th>\n",
              "      <th></th>\n",
              "      <th></th>\n",
              "      <th></th>\n",
              "      <th></th>\n",
              "      <th></th>\n",
              "      <th></th>\n",
              "      <th></th>\n",
              "      <th></th>\n",
              "      <th></th>\n",
              "      <th></th>\n",
              "      <th></th>\n",
              "      <th></th>\n",
              "      <th></th>\n",
              "      <th></th>\n",
              "      <th></th>\n",
              "      <th></th>\n",
              "      <th></th>\n",
              "      <th></th>\n",
              "      <th></th>\n",
              "      <th></th>\n",
              "      <th></th>\n",
              "      <th></th>\n",
              "      <th></th>\n",
              "      <th></th>\n",
              "      <th></th>\n",
              "      <th></th>\n",
              "      <th></th>\n",
              "      <th></th>\n",
              "      <th></th>\n",
              "      <th></th>\n",
              "      <th></th>\n",
              "      <th></th>\n",
              "      <th></th>\n",
              "      <th></th>\n",
              "    </tr>\n",
              "  </thead>\n",
              "  <tbody>\n",
              "    <tr>\n",
              "      <th>L29UAVJD</th>\n",
              "      <td>1</td>\n",
              "      <td>0</td>\n",
              "      <td>1</td>\n",
              "      <td>0</td>\n",
              "      <td>0</td>\n",
              "      <td>0</td>\n",
              "      <td>0</td>\n",
              "      <td>0</td>\n",
              "      <td>0</td>\n",
              "      <td>0</td>\n",
              "      <td>0</td>\n",
              "      <td>0</td>\n",
              "      <td>1</td>\n",
              "      <td>0</td>\n",
              "      <td>0</td>\n",
              "      <td>0</td>\n",
              "      <td>0</td>\n",
              "      <td>0</td>\n",
              "      <td>0</td>\n",
              "      <td>0</td>\n",
              "      <td>0</td>\n",
              "      <td>0</td>\n",
              "      <td>0</td>\n",
              "      <td>0</td>\n",
              "      <td>0</td>\n",
              "      <td>0</td>\n",
              "      <td>0</td>\n",
              "      <td>0</td>\n",
              "      <td>0</td>\n",
              "      <td>0</td>\n",
              "      <td>0</td>\n",
              "      <td>0</td>\n",
              "      <td>0</td>\n",
              "      <td>0</td>\n",
              "      <td>0</td>\n",
              "      <td>0</td>\n",
              "      <td>0</td>\n",
              "      <td>0</td>\n",
              "      <td>0</td>\n",
              "      <td>0</td>\n",
              "      <td>0</td>\n",
              "      <td>0</td>\n",
              "      <td>1</td>\n",
              "      <td>0</td>\n",
              "      <td>0</td>\n",
              "      <td>0</td>\n",
              "      <td>0</td>\n",
              "      <td>1</td>\n",
              "      <td>0</td>\n",
              "      <td>0</td>\n",
              "      <td>0</td>\n",
              "      <td>0</td>\n",
              "      <td>0</td>\n",
              "      <td>0</td>\n",
              "      <td>0</td>\n",
              "      <td>1</td>\n",
              "      <td>0</td>\n",
              "      <td>0</td>\n",
              "      <td>0</td>\n",
              "      <td>0</td>\n",
              "      <td>0</td>\n",
              "    </tr>\n",
              "    <tr>\n",
              "      <th>NMRKVXVD</th>\n",
              "      <td>0</td>\n",
              "      <td>0</td>\n",
              "      <td>0</td>\n",
              "      <td>0</td>\n",
              "      <td>0</td>\n",
              "      <td>0</td>\n",
              "      <td>0</td>\n",
              "      <td>0</td>\n",
              "      <td>0</td>\n",
              "      <td>0</td>\n",
              "      <td>0</td>\n",
              "      <td>0</td>\n",
              "      <td>0</td>\n",
              "      <td>0</td>\n",
              "      <td>0</td>\n",
              "      <td>0</td>\n",
              "      <td>0</td>\n",
              "      <td>0</td>\n",
              "      <td>0</td>\n",
              "      <td>0</td>\n",
              "      <td>0</td>\n",
              "      <td>0</td>\n",
              "      <td>0</td>\n",
              "      <td>0</td>\n",
              "      <td>0</td>\n",
              "      <td>0</td>\n",
              "      <td>0</td>\n",
              "      <td>0</td>\n",
              "      <td>0</td>\n",
              "      <td>0</td>\n",
              "      <td>0</td>\n",
              "      <td>0</td>\n",
              "      <td>0</td>\n",
              "      <td>0</td>\n",
              "      <td>0</td>\n",
              "      <td>0</td>\n",
              "      <td>0</td>\n",
              "      <td>0</td>\n",
              "      <td>0</td>\n",
              "      <td>0</td>\n",
              "      <td>0</td>\n",
              "      <td>1</td>\n",
              "      <td>0</td>\n",
              "      <td>0</td>\n",
              "      <td>0</td>\n",
              "      <td>0</td>\n",
              "      <td>0</td>\n",
              "      <td>1</td>\n",
              "      <td>0</td>\n",
              "      <td>0</td>\n",
              "      <td>0</td>\n",
              "      <td>0</td>\n",
              "      <td>0</td>\n",
              "      <td>0</td>\n",
              "      <td>1</td>\n",
              "      <td>0</td>\n",
              "      <td>0</td>\n",
              "      <td>0</td>\n",
              "      <td>0</td>\n",
              "      <td>0</td>\n",
              "      <td>0</td>\n",
              "    </tr>\n",
              "    <tr>\n",
              "      <th>QJWQ3P6U</th>\n",
              "      <td>0</td>\n",
              "      <td>0</td>\n",
              "      <td>1</td>\n",
              "      <td>1</td>\n",
              "      <td>0</td>\n",
              "      <td>0</td>\n",
              "      <td>0</td>\n",
              "      <td>0</td>\n",
              "      <td>0</td>\n",
              "      <td>0</td>\n",
              "      <td>0</td>\n",
              "      <td>0</td>\n",
              "      <td>0</td>\n",
              "      <td>0</td>\n",
              "      <td>0</td>\n",
              "      <td>0</td>\n",
              "      <td>0</td>\n",
              "      <td>0</td>\n",
              "      <td>0</td>\n",
              "      <td>0</td>\n",
              "      <td>0</td>\n",
              "      <td>0</td>\n",
              "      <td>0</td>\n",
              "      <td>0</td>\n",
              "      <td>0</td>\n",
              "      <td>0</td>\n",
              "      <td>0</td>\n",
              "      <td>0</td>\n",
              "      <td>0</td>\n",
              "      <td>1</td>\n",
              "      <td>0</td>\n",
              "      <td>0</td>\n",
              "      <td>0</td>\n",
              "      <td>0</td>\n",
              "      <td>0</td>\n",
              "      <td>0</td>\n",
              "      <td>0</td>\n",
              "      <td>0</td>\n",
              "      <td>0</td>\n",
              "      <td>0</td>\n",
              "      <td>0</td>\n",
              "      <td>0</td>\n",
              "      <td>0</td>\n",
              "      <td>1</td>\n",
              "      <td>0</td>\n",
              "      <td>0</td>\n",
              "      <td>0</td>\n",
              "      <td>0</td>\n",
              "      <td>1</td>\n",
              "      <td>0</td>\n",
              "      <td>0</td>\n",
              "      <td>0</td>\n",
              "      <td>0</td>\n",
              "      <td>0</td>\n",
              "      <td>0</td>\n",
              "      <td>1</td>\n",
              "      <td>0</td>\n",
              "      <td>0</td>\n",
              "      <td>0</td>\n",
              "      <td>0</td>\n",
              "      <td>0</td>\n",
              "    </tr>\n",
              "    <tr>\n",
              "      <th>MNXHWV8Y</th>\n",
              "      <td>1</td>\n",
              "      <td>0</td>\n",
              "      <td>0</td>\n",
              "      <td>0</td>\n",
              "      <td>1</td>\n",
              "      <td>0</td>\n",
              "      <td>0</td>\n",
              "      <td>0</td>\n",
              "      <td>0</td>\n",
              "      <td>0</td>\n",
              "      <td>0</td>\n",
              "      <td>0</td>\n",
              "      <td>0</td>\n",
              "      <td>0</td>\n",
              "      <td>0</td>\n",
              "      <td>0</td>\n",
              "      <td>0</td>\n",
              "      <td>0</td>\n",
              "      <td>0</td>\n",
              "      <td>0</td>\n",
              "      <td>0</td>\n",
              "      <td>0</td>\n",
              "      <td>0</td>\n",
              "      <td>0</td>\n",
              "      <td>0</td>\n",
              "      <td>0</td>\n",
              "      <td>0</td>\n",
              "      <td>0</td>\n",
              "      <td>0</td>\n",
              "      <td>0</td>\n",
              "      <td>0</td>\n",
              "      <td>0</td>\n",
              "      <td>0</td>\n",
              "      <td>1</td>\n",
              "      <td>0</td>\n",
              "      <td>0</td>\n",
              "      <td>0</td>\n",
              "      <td>0</td>\n",
              "      <td>0</td>\n",
              "      <td>0</td>\n",
              "      <td>0</td>\n",
              "      <td>0</td>\n",
              "      <td>0</td>\n",
              "      <td>1</td>\n",
              "      <td>0</td>\n",
              "      <td>1</td>\n",
              "      <td>0</td>\n",
              "      <td>0</td>\n",
              "      <td>0</td>\n",
              "      <td>0</td>\n",
              "      <td>0</td>\n",
              "      <td>0</td>\n",
              "      <td>1</td>\n",
              "      <td>0</td>\n",
              "      <td>0</td>\n",
              "      <td>0</td>\n",
              "      <td>0</td>\n",
              "      <td>0</td>\n",
              "      <td>1</td>\n",
              "      <td>0</td>\n",
              "      <td>0</td>\n",
              "    </tr>\n",
              "    <tr>\n",
              "      <th>JEMGWPXT</th>\n",
              "      <td>1</td>\n",
              "      <td>0</td>\n",
              "      <td>1</td>\n",
              "      <td>0</td>\n",
              "      <td>1</td>\n",
              "      <td>0</td>\n",
              "      <td>0</td>\n",
              "      <td>0</td>\n",
              "      <td>0</td>\n",
              "      <td>0</td>\n",
              "      <td>0</td>\n",
              "      <td>0</td>\n",
              "      <td>0</td>\n",
              "      <td>0</td>\n",
              "      <td>0</td>\n",
              "      <td>0</td>\n",
              "      <td>0</td>\n",
              "      <td>0</td>\n",
              "      <td>0</td>\n",
              "      <td>1</td>\n",
              "      <td>0</td>\n",
              "      <td>0</td>\n",
              "      <td>0</td>\n",
              "      <td>0</td>\n",
              "      <td>0</td>\n",
              "      <td>0</td>\n",
              "      <td>0</td>\n",
              "      <td>0</td>\n",
              "      <td>0</td>\n",
              "      <td>0</td>\n",
              "      <td>0</td>\n",
              "      <td>0</td>\n",
              "      <td>0</td>\n",
              "      <td>0</td>\n",
              "      <td>0</td>\n",
              "      <td>0</td>\n",
              "      <td>0</td>\n",
              "      <td>0</td>\n",
              "      <td>0</td>\n",
              "      <td>0</td>\n",
              "      <td>0</td>\n",
              "      <td>1</td>\n",
              "      <td>0</td>\n",
              "      <td>0</td>\n",
              "      <td>1</td>\n",
              "      <td>0</td>\n",
              "      <td>0</td>\n",
              "      <td>0</td>\n",
              "      <td>1</td>\n",
              "      <td>0</td>\n",
              "      <td>0</td>\n",
              "      <td>0</td>\n",
              "      <td>0</td>\n",
              "      <td>0</td>\n",
              "      <td>0</td>\n",
              "      <td>1</td>\n",
              "      <td>0</td>\n",
              "      <td>0</td>\n",
              "      <td>0</td>\n",
              "      <td>0</td>\n",
              "      <td>0</td>\n",
              "    </tr>\n",
              "  </tbody>\n",
              "</table>\n",
              "</div>"
            ],
            "text/plain": [
              "          Credit_Product  ...  Avg_AcBal_Category_CAB9\n",
              "ID                        ...                         \n",
              "L29UAVJD               1  ...                        0\n",
              "NMRKVXVD               0  ...                        0\n",
              "QJWQ3P6U               0  ...                        0\n",
              "MNXHWV8Y               1  ...                        0\n",
              "JEMGWPXT               1  ...                        0\n",
              "\n",
              "[5 rows x 61 columns]"
            ]
          },
          "metadata": {
            "tags": []
          },
          "execution_count": 733
        }
      ]
    },
    {
      "cell_type": "code",
      "metadata": {
        "id": "ShKB2G2ic94s"
      },
      "source": [
        "#### Model 1 : Decision Tree Classifier"
      ],
      "execution_count": 734,
      "outputs": []
    },
    {
      "cell_type": "code",
      "metadata": {
        "id": "59XE1dXgdCCF"
      },
      "source": [
        "from sklearn.tree import DecisionTreeClassifier"
      ],
      "execution_count": 735,
      "outputs": []
    },
    {
      "cell_type": "code",
      "metadata": {
        "colab": {
          "base_uri": "https://localhost:8080/"
        },
        "id": "ZEkgXAGWdEbq",
        "outputId": "74259501-a6bd-4308-9e9e-ee7b1d1d557a"
      },
      "source": [
        "dt = DecisionTreeClassifier(max_depth=20)\n",
        "dt.fit(X_train, y_train)"
      ],
      "execution_count": 736,
      "outputs": [
        {
          "output_type": "execute_result",
          "data": {
            "text/plain": [
              "DecisionTreeClassifier(ccp_alpha=0.0, class_weight=None, criterion='gini',\n",
              "                       max_depth=20, max_features=None, max_leaf_nodes=None,\n",
              "                       min_impurity_decrease=0.0, min_impurity_split=None,\n",
              "                       min_samples_leaf=1, min_samples_split=2,\n",
              "                       min_weight_fraction_leaf=0.0, presort='deprecated',\n",
              "                       random_state=None, splitter='best')"
            ]
          },
          "metadata": {
            "tags": []
          },
          "execution_count": 736
        }
      ]
    },
    {
      "cell_type": "code",
      "metadata": {
        "id": "j6JZDLbLdIA0"
      },
      "source": [
        "# Importing required packages for visualization\n",
        "from IPython.display import Image  \n",
        "from six import StringIO\n",
        "from sklearn.tree import export_graphviz\n",
        "import pydotplus\n",
        "import graphviz"
      ],
      "execution_count": 737,
      "outputs": []
    },
    {
      "cell_type": "code",
      "metadata": {
        "id": "A76NNKkrdQp1"
      },
      "source": [
        "# plotting tree with max_depth=3\n",
        "#dot_data = StringIO()  \n",
        "\n",
        "#export_graphviz(dt, out_file=dot_data, filled=True, rounded=True,\n",
        "#                feature_names=X.columns, \n",
        "#              class_names=['No Lead', \"Lead\"])\n",
        "\n",
        "#graph = pydotplus.graph_from_dot_data(dot_data.getvalue())\n",
        "#Image(graph.create_png())"
      ],
      "execution_count": 738,
      "outputs": []
    },
    {
      "cell_type": "code",
      "metadata": {
        "id": "bK5RTZNQdXuF"
      },
      "source": [
        "y_train_pred = dt.predict(X_train)\n",
        "y_test_pred = dt.predict(X_test)"
      ],
      "execution_count": 739,
      "outputs": []
    },
    {
      "cell_type": "code",
      "metadata": {
        "colab": {
          "base_uri": "https://localhost:8080/"
        },
        "id": "IUW5tdfddcRe",
        "outputId": "0af100cb-1f8f-4557-eeac-e81f028ff734"
      },
      "source": [
        "print('AUC on train data by Decision Tree =', metrics.roc_auc_score(y_true=y_train,y_score=y_train_pred))"
      ],
      "execution_count": 740,
      "outputs": [
        {
          "output_type": "stream",
          "text": [
            "AUC on train data by Decision Tree = 0.6726451994418452\n"
          ],
          "name": "stdout"
        }
      ]
    },
    {
      "cell_type": "code",
      "metadata": {
        "colab": {
          "base_uri": "https://localhost:8080/"
        },
        "id": "NY_nWmT7dc6H",
        "outputId": "0fe97932-c6b4-4fc4-af7e-0f5bd7f89e8a"
      },
      "source": [
        "print('AUC on test data by Decision Tree =', metrics.roc_auc_score(y_true=y_test,y_score=y_test_pred))"
      ],
      "execution_count": 741,
      "outputs": [
        {
          "output_type": "stream",
          "text": [
            "AUC on test data by Decision Tree = 0.6008881831253068\n"
          ],
          "name": "stdout"
        }
      ]
    },
    {
      "cell_type": "code",
      "metadata": {
        "id": "9jcHwUo3gW_C"
      },
      "source": [
        "### Model 2 : Random Forest"
      ],
      "execution_count": 742,
      "outputs": []
    },
    {
      "cell_type": "code",
      "metadata": {
        "id": "BhjxWmjEgadU"
      },
      "source": [
        "from sklearn.ensemble import RandomForestClassifier\n",
        "rf1 = RandomForestClassifier(n_estimators=10, max_depth=4, max_features=5, random_state=100, oob_score=True)"
      ],
      "execution_count": 743,
      "outputs": []
    },
    {
      "cell_type": "code",
      "metadata": {
        "colab": {
          "base_uri": "https://localhost:8080/"
        },
        "id": "z3oBgM-Ggkrk",
        "outputId": "0ef9a03b-2d52-4c2b-9492-52f3c316b453"
      },
      "source": [
        "%%time\n",
        "rf1.fit(X_train, y_train)"
      ],
      "execution_count": 744,
      "outputs": [
        {
          "output_type": "stream",
          "text": [
            "CPU times: user 653 ms, sys: 6.74 ms, total: 660 ms\n",
            "Wall time: 662 ms\n"
          ],
          "name": "stdout"
        },
        {
          "output_type": "execute_result",
          "data": {
            "text/plain": [
              "RandomForestClassifier(bootstrap=True, ccp_alpha=0.0, class_weight=None,\n",
              "                       criterion='gini', max_depth=4, max_features=5,\n",
              "                       max_leaf_nodes=None, max_samples=None,\n",
              "                       min_impurity_decrease=0.0, min_impurity_split=None,\n",
              "                       min_samples_leaf=1, min_samples_split=2,\n",
              "                       min_weight_fraction_leaf=0.0, n_estimators=10,\n",
              "                       n_jobs=None, oob_score=True, random_state=100, verbose=0,\n",
              "                       warm_start=False)"
            ]
          },
          "metadata": {
            "tags": []
          },
          "execution_count": 744
        }
      ]
    },
    {
      "cell_type": "code",
      "metadata": {
        "id": "8Oo98xTng19B"
      },
      "source": [
        "y_train_pred = rf1.predict(X_train)\n",
        "y_test_pred = rf1.predict(X_test)"
      ],
      "execution_count": 745,
      "outputs": []
    },
    {
      "cell_type": "code",
      "metadata": {
        "colab": {
          "base_uri": "https://localhost:8080/"
        },
        "id": "AloDFZ_Mg78D",
        "outputId": "9bd438a5-bb50-42f6-b2fe-3cfa15a5e32b"
      },
      "source": [
        "print('AUC on train data by Random Forest =', metrics.roc_auc_score(y_true=y_train,y_score=y_train_pred))"
      ],
      "execution_count": 746,
      "outputs": [
        {
          "output_type": "stream",
          "text": [
            "AUC on train data by Random Forest = 0.5023447534150169\n"
          ],
          "name": "stdout"
        }
      ]
    },
    {
      "cell_type": "code",
      "metadata": {
        "colab": {
          "base_uri": "https://localhost:8080/"
        },
        "id": "pl_UrfDihR9c",
        "outputId": "2f64b677-e01d-44e8-fe6a-5e134431f7e2"
      },
      "source": [
        "print('AUC on test data by Random Forest =', metrics.roc_auc_score(y_true=y_test,y_score=y_test_pred))"
      ],
      "execution_count": 747,
      "outputs": [
        {
          "output_type": "stream",
          "text": [
            "AUC on test data by Random Forest = 0.5024606811738382\n"
          ],
          "name": "stdout"
        }
      ]
    },
    {
      "cell_type": "code",
      "metadata": {
        "id": "nKWd4bOLhqHV"
      },
      "source": [
        "### Hyper Parameter Tuning"
      ],
      "execution_count": 748,
      "outputs": []
    },
    {
      "cell_type": "code",
      "metadata": {
        "id": "EvBxIwf5hszz"
      },
      "source": [
        "from sklearn.model_selection import GridSearchCV\n",
        "rf = RandomForestClassifier(random_state=42, n_jobs=-1)"
      ],
      "execution_count": 749,
      "outputs": []
    },
    {
      "cell_type": "code",
      "metadata": {
        "id": "X2mBD6EDhulv"
      },
      "source": [
        "params = {\n",
        "    'max_depth': [2,3,5,10,20],\n",
        "    'min_samples_leaf': [5,10,20,50,100,200],\n",
        "    'n_estimators': [10, 25, 50, 100]\n",
        "}"
      ],
      "execution_count": 750,
      "outputs": []
    },
    {
      "cell_type": "code",
      "metadata": {
        "id": "g62Vaanyh0FU"
      },
      "source": [
        "grid_search = GridSearchCV(estimator=rf,\n",
        "                           param_grid=params,\n",
        "                           cv = 4,\n",
        "                           n_jobs=-1, verbose=1, scoring=\"accuracy\")"
      ],
      "execution_count": 751,
      "outputs": []
    },
    {
      "cell_type": "code",
      "metadata": {
        "colab": {
          "base_uri": "https://localhost:8080/"
        },
        "id": "7EvpVFmqh6G3",
        "outputId": "121629fc-6214-49e6-faae-5a3b03c5eec5"
      },
      "source": [
        "%%time\n",
        "#grid_search.fit(X_train, y_train)"
      ],
      "execution_count": 752,
      "outputs": [
        {
          "output_type": "stream",
          "text": [
            "CPU times: user 2 µs, sys: 0 ns, total: 2 µs\n",
            "Wall time: 5.48 µs\n"
          ],
          "name": "stdout"
        }
      ]
    },
    {
      "cell_type": "code",
      "metadata": {
        "id": "1RJemB6zh9Rr"
      },
      "source": [
        "#grid_search.best_score_"
      ],
      "execution_count": 753,
      "outputs": []
    },
    {
      "cell_type": "code",
      "metadata": {
        "id": "ZoGcx4DoiFTu"
      },
      "source": [
        "#rf_best = grid_search.best_estimator_\n",
        "#rf_best"
      ],
      "execution_count": 754,
      "outputs": []
    },
    {
      "cell_type": "code",
      "metadata": {
        "colab": {
          "base_uri": "https://localhost:8080/"
        },
        "id": "Z7cp-m_2iplI",
        "outputId": "bf582b95-7a90-4d26-a55b-a6318aac722f"
      },
      "source": [
        "#rf2 = RandomForestClassifier(n_estimators=10, max_depth=4, max_features=5, random_state=100, oob_score=True)\n",
        "rf2 = RandomForestClassifier(bootstrap=True, ccp_alpha=0.0, class_weight=None,\n",
        "                       criterion='gini', max_depth=20, max_features='auto',\n",
        "                       max_leaf_nodes=None, max_samples=None,\n",
        "                       min_impurity_decrease=0.0, min_impurity_split=None,\n",
        "                       min_samples_leaf=5, min_samples_split=2,\n",
        "                       min_weight_fraction_leaf=0.0, n_estimators=100,\n",
        "                       n_jobs=-1, oob_score=False, random_state=42, verbose=0,\n",
        "                       warm_start=False)\n",
        "rf2.fit(X_train, y_train)\n",
        "y_train_pred = rf2.predict(X_train)\n",
        "y_test_pred = rf2.predict(X_test)\n",
        "print('AUC on train data by Random Forest =', metrics.roc_auc_score(y_true=y_train,y_score=y_train_pred))\n",
        "print('AUC on test data by Random Forest =', metrics.roc_auc_score(y_true=y_test,y_score=y_test_pred))"
      ],
      "execution_count": 755,
      "outputs": [
        {
          "output_type": "stream",
          "text": [
            "AUC on train data by Random Forest = 0.606831538948894\n",
            "AUC on test data by Random Forest = 0.5901386582109512\n"
          ],
          "name": "stdout"
        }
      ]
    },
    {
      "cell_type": "code",
      "metadata": {
        "id": "OXPASdlP0A-Z"
      },
      "source": [
        "#### Model 4 :  XG Boost Default"
      ],
      "execution_count": 756,
      "outputs": []
    },
    {
      "cell_type": "code",
      "metadata": {
        "colab": {
          "base_uri": "https://localhost:8080/"
        },
        "id": "WP1TEc4Y0Dez",
        "outputId": "ddc68531-7607-4e9c-c2e5-1ff91e64180a"
      },
      "source": [
        "import xgboost as xgb\n",
        "from sklearn import metrics\n",
        "\n",
        "xgb_model1 = xgb.XGBClassifier()\n",
        "\n",
        "xgb_model1.fit(X_train, y_train)"
      ],
      "execution_count": 757,
      "outputs": [
        {
          "output_type": "execute_result",
          "data": {
            "text/plain": [
              "XGBClassifier(base_score=0.5, booster='gbtree', colsample_bylevel=1,\n",
              "              colsample_bynode=1, colsample_bytree=1, gamma=0,\n",
              "              learning_rate=0.1, max_delta_step=0, max_depth=3,\n",
              "              min_child_weight=1, missing=None, n_estimators=100, n_jobs=1,\n",
              "              nthread=None, objective='binary:logistic', random_state=0,\n",
              "              reg_alpha=0, reg_lambda=1, scale_pos_weight=1, seed=None,\n",
              "              silent=None, subsample=1, verbosity=1)"
            ]
          },
          "metadata": {
            "tags": []
          },
          "execution_count": 757
        }
      ]
    },
    {
      "cell_type": "code",
      "metadata": {
        "colab": {
          "base_uri": "https://localhost:8080/"
        },
        "id": "eUMNBp610XzI",
        "outputId": "8419f838-fff2-4adf-a4a9-60df4129cf56"
      },
      "source": [
        "print('AUC on train data by XGBoost =', metrics.roc_auc_score(y_true=y_train,\n",
        "                                                              y_score=xgb_model1.predict_proba(X_train)[:, 1]))"
      ],
      "execution_count": 758,
      "outputs": [
        {
          "output_type": "stream",
          "text": [
            "AUC on train data by XGBoost = 0.7753236865204806\n"
          ],
          "name": "stdout"
        }
      ]
    },
    {
      "cell_type": "code",
      "metadata": {
        "colab": {
          "base_uri": "https://localhost:8080/"
        },
        "id": "2uGlAEkT0tn7",
        "outputId": "e34fd9e6-cce1-458c-ba18-f8957075885b"
      },
      "source": [
        "print('AUC on test data by XGBoost =', metrics.roc_auc_score(y_true=y_test,\n",
        "                                                             y_score=xgb_model1.predict_proba(X_test)[:, 1]))"
      ],
      "execution_count": 759,
      "outputs": [
        {
          "output_type": "stream",
          "text": [
            "AUC on test data by XGBoost = 0.7694231146486493\n"
          ],
          "name": "stdout"
        }
      ]
    },
    {
      "cell_type": "code",
      "metadata": {
        "id": "6NRqA96gYPpX"
      },
      "source": [
        "## Model 5 : XG Boost with Different HyperParameters"
      ],
      "execution_count": 760,
      "outputs": []
    },
    {
      "cell_type": "code",
      "metadata": {
        "colab": {
          "base_uri": "https://localhost:8080/"
        },
        "id": "Y2Kgvv_H1H9u",
        "outputId": "a9b2653b-7516-48c6-e7d5-a1ac0ee87abe"
      },
      "source": [
        "from sklearn import model_selection\n",
        "xgb_model2 = xgb.XGBClassifier()\n",
        "\n",
        "# Default-Run of default-hyperparameters\n",
        "parameters = {'learning_rate': [0.3],\n",
        "              'max_depth': [6],\n",
        "              'min_child_weight': [1],\n",
        "              'n_estimators': [100]}\n",
        "\n",
        "scorer = metrics.make_scorer(metrics.roc_auc_score,\n",
        "                             greater_is_better=True,\n",
        "                             needs_proba=True,\n",
        "                             needs_threshold=False)\n",
        "\n",
        "clf_xgb2 = model_selection.GridSearchCV(estimator=xgb_model2,\n",
        "                                       param_grid=parameters,\n",
        "                                       n_jobs=-1,\n",
        "                                       cv=3,\n",
        "                                       scoring=scorer,\n",
        "                                       refit=True)\n",
        "\n",
        "clf_xgb2.fit(X_train, y_train)"
      ],
      "execution_count": 761,
      "outputs": [
        {
          "output_type": "execute_result",
          "data": {
            "text/plain": [
              "GridSearchCV(cv=3, error_score=nan,\n",
              "             estimator=XGBClassifier(base_score=0.5, booster='gbtree',\n",
              "                                     colsample_bylevel=1, colsample_bynode=1,\n",
              "                                     colsample_bytree=1, gamma=0,\n",
              "                                     learning_rate=0.1, max_delta_step=0,\n",
              "                                     max_depth=3, min_child_weight=1,\n",
              "                                     missing=None, n_estimators=100, n_jobs=1,\n",
              "                                     nthread=None, objective='binary:logistic',\n",
              "                                     random_state=0, reg_alpha=0, reg_lambda=1,\n",
              "                                     scale_pos_weight=1, seed=None, silent=None,\n",
              "                                     subsample=1, verbosity=1),\n",
              "             iid='deprecated', n_jobs=-1,\n",
              "             param_grid={'learning_rate': [0.3], 'max_depth': [6],\n",
              "                         'min_child_weight': [1], 'n_estimators': [100]},\n",
              "             pre_dispatch='2*n_jobs', refit=True, return_train_score=False,\n",
              "             scoring=make_scorer(roc_auc_score, needs_proba=True), verbose=0)"
            ]
          },
          "metadata": {
            "tags": []
          },
          "execution_count": 761
        }
      ]
    },
    {
      "cell_type": "code",
      "metadata": {
        "colab": {
          "base_uri": "https://localhost:8080/"
        },
        "id": "TKcllK-W2uLf",
        "outputId": "c51ba1fb-d036-442f-9dfa-3481df84fbf3"
      },
      "source": [
        "print(clf_xgb2.best_params_)\n",
        "print(clf_xgb2.best_score_)\n",
        "print(clf_xgb2.best_estimator_)"
      ],
      "execution_count": 762,
      "outputs": [
        {
          "output_type": "stream",
          "text": [
            "{'learning_rate': 0.3, 'max_depth': 6, 'min_child_weight': 1, 'n_estimators': 100}\n",
            "0.779520045037933\n",
            "XGBClassifier(base_score=0.5, booster='gbtree', colsample_bylevel=1,\n",
            "              colsample_bynode=1, colsample_bytree=1, gamma=0,\n",
            "              learning_rate=0.3, max_delta_step=0, max_depth=6,\n",
            "              min_child_weight=1, missing=None, n_estimators=100, n_jobs=1,\n",
            "              nthread=None, objective='binary:logistic', random_state=0,\n",
            "              reg_alpha=0, reg_lambda=1, scale_pos_weight=1, seed=None,\n",
            "              silent=None, subsample=1, verbosity=1)\n"
          ],
          "name": "stdout"
        }
      ]
    },
    {
      "cell_type": "code",
      "metadata": {
        "colab": {
          "base_uri": "https://localhost:8080/"
        },
        "id": "9OPQHO4z29Fa",
        "outputId": "5e665354-d2dd-4c27-9dba-5645ea924cda"
      },
      "source": [
        "print('AUC on train data by XGBoost =', metrics.roc_auc_score(y_true=y_train,\n",
        "                                                              y_score=clf_xgb2.predict_proba(X_train)[:, 1]))"
      ],
      "execution_count": 763,
      "outputs": [
        {
          "output_type": "stream",
          "text": [
            "AUC on train data by XGBoost = 0.8031258358199492\n"
          ],
          "name": "stdout"
        }
      ]
    },
    {
      "cell_type": "code",
      "metadata": {
        "colab": {
          "base_uri": "https://localhost:8080/"
        },
        "id": "ri3QQxNb3O6T",
        "outputId": "439e887d-1e8d-4e90-87f8-2ce55f136b73"
      },
      "source": [
        "print('AUC on test data by XGBoost =', metrics.roc_auc_score(y_true=y_test,\n",
        "                                                             y_score=clf_xgb2.predict_proba(X_test)[:, 1]))"
      ],
      "execution_count": 764,
      "outputs": [
        {
          "output_type": "stream",
          "text": [
            "AUC on test data by XGBoost = 0.7764848664760196\n"
          ],
          "name": "stdout"
        }
      ]
    },
    {
      "cell_type": "code",
      "metadata": {
        "id": "5vDQqx1rvsW5"
      },
      "source": [
        "y_train_pred = clf_xgb2.predict_proba(X_train)[:, 1]\n",
        "leads_df_test_pred_y = clf_xgb2.predict_proba(leads_df_test)[:,1]"
      ],
      "execution_count": 765,
      "outputs": []
    },
    {
      "cell_type": "code",
      "metadata": {
        "id": "bjtY4DSTYgUY"
      },
      "source": [
        "### Model 6 : Feature Selection using RFE + XGBOOST"
      ],
      "execution_count": 659,
      "outputs": []
    },
    {
      "cell_type": "code",
      "metadata": {
        "id": "OqaD_tW80TOU"
      },
      "source": [
        "from sklearn.linear_model import LogisticRegression\n",
        "logreg = LogisticRegression()"
      ],
      "execution_count": 660,
      "outputs": []
    },
    {
      "cell_type": "code",
      "metadata": {
        "id": "cEFTXKNg2_33"
      },
      "source": [
        "X_train, X_test, y_train, y_test = train_test_split(X, Y, train_size=0.7, test_size=0.3, random_state=100) \n",
        "#X_train.info()"
      ],
      "execution_count": 661,
      "outputs": []
    },
    {
      "cell_type": "code",
      "metadata": {
        "id": "M7-eejrKw7sh"
      },
      "source": [
        "from sklearn.feature_selection import RFE\n",
        "rfe = RFE(logreg, 25)             # running RFE with 25 variables as output\n",
        "rfe = rfe.fit(X_train, y_train)"
      ],
      "execution_count": 662,
      "outputs": []
    },
    {
      "cell_type": "code",
      "metadata": {
        "colab": {
          "base_uri": "https://localhost:8080/"
        },
        "id": "AnG6Khi0w7si",
        "outputId": "56415cf2-a2c3-46b9-ac73-7a7ef841d0fa"
      },
      "source": [
        "list(zip(X_train.columns, rfe.support_, rfe.ranking_))"
      ],
      "execution_count": 663,
      "outputs": [
        {
          "output_type": "execute_result",
          "data": {
            "text/plain": [
              "[('Credit_Product', True, 1),\n",
              " ('Is_Active', False, 28),\n",
              " ('Gender_Male', False, 23),\n",
              " ('Age_Category_CA3', True, 1),\n",
              " ('Age_Category_CA4', True, 1),\n",
              " ('Age_Category_CA5', True, 1),\n",
              " ('Age_Category_CA6', True, 1),\n",
              " ('Region_Code_RG251', False, 22),\n",
              " ('Region_Code_RG252', False, 29),\n",
              " ('Region_Code_RG253', False, 31),\n",
              " ('Region_Code_RG254', False, 17),\n",
              " ('Region_Code_RG255', True, 1),\n",
              " ('Region_Code_RG256', False, 19),\n",
              " ('Region_Code_RG257', False, 4),\n",
              " ('Region_Code_RG258', False, 6),\n",
              " ('Region_Code_RG259', False, 5),\n",
              " ('Region_Code_RG260', False, 34),\n",
              " ('Region_Code_RG261', False, 36),\n",
              " ('Region_Code_RG262', False, 24),\n",
              " ('Region_Code_RG263', False, 21),\n",
              " ('Region_Code_RG264', False, 18),\n",
              " ('Region_Code_RG265', False, 7),\n",
              " ('Region_Code_RG266', False, 15),\n",
              " ('Region_Code_RG267', False, 25),\n",
              " ('Region_Code_RG268', False, 2),\n",
              " ('Region_Code_RG269', True, 1),\n",
              " ('Region_Code_RG270', False, 33),\n",
              " ('Region_Code_RG271', False, 3),\n",
              " ('Region_Code_RG272', False, 30),\n",
              " ('Region_Code_RG273', True, 1),\n",
              " ('Region_Code_RG274', False, 35),\n",
              " ('Region_Code_RG275', False, 37),\n",
              " ('Region_Code_RG276', True, 1),\n",
              " ('Region_Code_RG277', True, 1),\n",
              " ('Region_Code_RG278', False, 16),\n",
              " ('Region_Code_RG279', True, 1),\n",
              " ('Region_Code_RG280', False, 8),\n",
              " ('Region_Code_RG281', True, 1),\n",
              " ('Region_Code_RG282', False, 26),\n",
              " ('Region_Code_RG283', True, 1),\n",
              " ('Region_Code_RG284', True, 1),\n",
              " ('Occupation_Other', True, 1),\n",
              " ('Occupation_Salaried', True, 1),\n",
              " ('Occupation_Self_Employed', True, 1),\n",
              " ('Channel_Code_X2', True, 1),\n",
              " ('Channel_Code_X3', True, 1),\n",
              " ('Channel_Code_X4', True, 1),\n",
              " ('Vintage_Category_CV2', False, 32),\n",
              " ('Vintage_Category_CV3', True, 1),\n",
              " ('Vintage_Category_CV4', True, 1),\n",
              " ('Vintage_Category_CV5', True, 1),\n",
              " ('Vintage_Category_CV6', True, 1),\n",
              " ('Vintage_Category_CV7', True, 1),\n",
              " ('Avg_AcBal_Category_CAB2', False, 27),\n",
              " ('Avg_AcBal_Category_CAB3', False, 20),\n",
              " ('Avg_AcBal_Category_CAB4', False, 13),\n",
              " ('Avg_AcBal_Category_CAB5', False, 12),\n",
              " ('Avg_AcBal_Category_CAB6', False, 11),\n",
              " ('Avg_AcBal_Category_CAB7', False, 9),\n",
              " ('Avg_AcBal_Category_CAB8', False, 10),\n",
              " ('Avg_AcBal_Category_CAB9', False, 14)]"
            ]
          },
          "metadata": {
            "tags": []
          },
          "execution_count": 663
        }
      ]
    },
    {
      "cell_type": "code",
      "metadata": {
        "colab": {
          "base_uri": "https://localhost:8080/"
        },
        "id": "ocLu2RIJw7sj",
        "outputId": "5c9f4f95-44bd-492e-bee9-78fdd675ee3f"
      },
      "source": [
        "#list of RFE supported columns\n",
        "col_supported = X_train.columns[rfe.support_]\n",
        "col_supported"
      ],
      "execution_count": 664,
      "outputs": [
        {
          "output_type": "execute_result",
          "data": {
            "text/plain": [
              "Index(['Credit_Product', 'Age_Category_CA3', 'Age_Category_CA4',\n",
              "       'Age_Category_CA5', 'Age_Category_CA6', 'Region_Code_RG255',\n",
              "       'Region_Code_RG269', 'Region_Code_RG273', 'Region_Code_RG276',\n",
              "       'Region_Code_RG277', 'Region_Code_RG279', 'Region_Code_RG281',\n",
              "       'Region_Code_RG283', 'Region_Code_RG284', 'Occupation_Other',\n",
              "       'Occupation_Salaried', 'Occupation_Self_Employed', 'Channel_Code_X2',\n",
              "       'Channel_Code_X3', 'Channel_Code_X4', 'Vintage_Category_CV3',\n",
              "       'Vintage_Category_CV4', 'Vintage_Category_CV5', 'Vintage_Category_CV6',\n",
              "       'Vintage_Category_CV7'],\n",
              "      dtype='object')"
            ]
          },
          "metadata": {
            "tags": []
          },
          "execution_count": 664
        }
      ]
    },
    {
      "cell_type": "code",
      "metadata": {
        "id": "MYz_o90lw7sj"
      },
      "source": [
        "# let's use these variables to create a logistic regression model using statsmodels.\n",
        "# Train model using supported variables\n",
        "X_train = X_train[col_supported]\n",
        "X_test = X_test[col_supported]\n",
        "leads_df_test = leads_df_test[col_supported]\n"
      ],
      "execution_count": 665,
      "outputs": []
    },
    {
      "cell_type": "code",
      "metadata": {
        "colab": {
          "base_uri": "https://localhost:8080/"
        },
        "id": "2vmMQcMtw7sk",
        "outputId": "2c8e8d15-4de1-4181-bdae-a0d1a70e1415"
      },
      "source": [
        "from sklearn import model_selection\n",
        "xgb_model3 = xgb.XGBClassifier()\n",
        "\n",
        "# Default-Run of default-hyperparameters\n",
        "parameters = {'learning_rate': [0.1],\n",
        "              'max_depth': [6],\n",
        "              'min_child_weight': [1],\n",
        "              'n_estimators': [100]}\n",
        "\n",
        "scorer = metrics.make_scorer(metrics.roc_auc_score,\n",
        "                             greater_is_better=True,\n",
        "                             needs_proba=True,\n",
        "                             needs_threshold=False)\n",
        "\n",
        "clf_xgb3 = model_selection.GridSearchCV(estimator=xgb_model3,\n",
        "                                       param_grid=parameters,\n",
        "                                       n_jobs=-1,\n",
        "                                       cv=3,\n",
        "                                       scoring=scorer,\n",
        "                                       refit=True)\n",
        "\n",
        "clf_xgb3.fit(X_train, y_train)"
      ],
      "execution_count": 666,
      "outputs": [
        {
          "output_type": "execute_result",
          "data": {
            "text/plain": [
              "GridSearchCV(cv=3, error_score=nan,\n",
              "             estimator=XGBClassifier(base_score=0.5, booster='gbtree',\n",
              "                                     colsample_bylevel=1, colsample_bynode=1,\n",
              "                                     colsample_bytree=1, gamma=0,\n",
              "                                     learning_rate=0.1, max_delta_step=0,\n",
              "                                     max_depth=3, min_child_weight=1,\n",
              "                                     missing=None, n_estimators=100, n_jobs=1,\n",
              "                                     nthread=None, objective='binary:logistic',\n",
              "                                     random_state=0, reg_alpha=0, reg_lambda=1,\n",
              "                                     scale_pos_weight=1, seed=None, silent=None,\n",
              "                                     subsample=1, verbosity=1),\n",
              "             iid='deprecated', n_jobs=-1,\n",
              "             param_grid={'learning_rate': [0.1], 'max_depth': [6],\n",
              "                         'min_child_weight': [1], 'n_estimators': [100]},\n",
              "             pre_dispatch='2*n_jobs', refit=True, return_train_score=False,\n",
              "             scoring=make_scorer(roc_auc_score, needs_proba=True), verbose=0)"
            ]
          },
          "metadata": {
            "tags": []
          },
          "execution_count": 666
        }
      ]
    },
    {
      "cell_type": "code",
      "metadata": {
        "colab": {
          "base_uri": "https://localhost:8080/"
        },
        "id": "ZD3rKBJM0-AU",
        "outputId": "ad5426aa-177a-4bc4-befb-e1e0839fb083"
      },
      "source": [
        "print(clf_xgb3.best_params_)\n",
        "print(clf_xgb3.best_score_)\n",
        "print(clf_xgb3.best_estimator_)"
      ],
      "execution_count": 667,
      "outputs": [
        {
          "output_type": "stream",
          "text": [
            "{'learning_rate': 0.1, 'max_depth': 6, 'min_child_weight': 1, 'n_estimators': 100}\n",
            "0.7715400291154687\n",
            "XGBClassifier(base_score=0.5, booster='gbtree', colsample_bylevel=1,\n",
            "              colsample_bynode=1, colsample_bytree=1, gamma=0,\n",
            "              learning_rate=0.1, max_delta_step=0, max_depth=6,\n",
            "              min_child_weight=1, missing=None, n_estimators=100, n_jobs=1,\n",
            "              nthread=None, objective='binary:logistic', random_state=0,\n",
            "              reg_alpha=0, reg_lambda=1, scale_pos_weight=1, seed=None,\n",
            "              silent=None, subsample=1, verbosity=1)\n"
          ],
          "name": "stdout"
        }
      ]
    },
    {
      "cell_type": "code",
      "metadata": {
        "colab": {
          "base_uri": "https://localhost:8080/"
        },
        "id": "4drxvXc81UQ7",
        "outputId": "fe8f1cf3-5f1f-4d94-c175-fa36225dc43b"
      },
      "source": [
        "print('AUC on train data by XGBoost =', metrics.roc_auc_score(y_true=y_train,\n",
        "                                                              y_score=clf_xgb3.predict_proba(X_train)[:, 1]))"
      ],
      "execution_count": 668,
      "outputs": [
        {
          "output_type": "stream",
          "text": [
            "AUC on train data by XGBoost = 0.7765504018439726\n"
          ],
          "name": "stdout"
        }
      ]
    },
    {
      "cell_type": "code",
      "metadata": {
        "colab": {
          "base_uri": "https://localhost:8080/"
        },
        "id": "ZJsu8X151VAK",
        "outputId": "63d1d13c-5d35-4b0a-d07b-be64b4c3e497"
      },
      "source": [
        "print('AUC on test data by XGBoost =', metrics.roc_auc_score(y_true=y_test,\n",
        "                                                             y_score=clf_xgb3.predict_proba(X_test)[:, 1]))"
      ],
      "execution_count": 669,
      "outputs": [
        {
          "output_type": "stream",
          "text": [
            "AUC on test data by XGBoost = 0.7670412676183483\n"
          ],
          "name": "stdout"
        }
      ]
    },
    {
      "cell_type": "code",
      "metadata": {
        "id": "ZC0NivelcAPL"
      },
      "source": [
        "## Already Applied XG BOOST Model 2 on the TEST DATA\n",
        "#leads_df_test_pred_y = clf_xgb3.predict_proba(leads_df_test)[:,1]\n"
      ],
      "execution_count": 766,
      "outputs": []
    },
    {
      "cell_type": "code",
      "metadata": {
        "id": "pvIrO6VlnikO"
      },
      "source": [
        "leads_df_test[\"pred\"]=leads_df_test_pred_y"
      ],
      "execution_count": 767,
      "outputs": []
    },
    {
      "cell_type": "code",
      "metadata": {
        "colab": {
          "base_uri": "https://localhost:8080/",
          "height": 245
        },
        "id": "abDMessqndJe",
        "outputId": "a6e0110a-234c-4ecd-9281-06ec0da16c6d"
      },
      "source": [
        "leads_df_test.head()"
      ],
      "execution_count": 768,
      "outputs": [
        {
          "output_type": "execute_result",
          "data": {
            "text/html": [
              "<div>\n",
              "<style scoped>\n",
              "    .dataframe tbody tr th:only-of-type {\n",
              "        vertical-align: middle;\n",
              "    }\n",
              "\n",
              "    .dataframe tbody tr th {\n",
              "        vertical-align: top;\n",
              "    }\n",
              "\n",
              "    .dataframe thead th {\n",
              "        text-align: right;\n",
              "    }\n",
              "</style>\n",
              "<table border=\"1\" class=\"dataframe\">\n",
              "  <thead>\n",
              "    <tr style=\"text-align: right;\">\n",
              "      <th></th>\n",
              "      <th>Credit_Product</th>\n",
              "      <th>Is_Active</th>\n",
              "      <th>Gender_Male</th>\n",
              "      <th>Age_Category_CA3</th>\n",
              "      <th>Age_Category_CA4</th>\n",
              "      <th>Age_Category_CA5</th>\n",
              "      <th>Age_Category_CA6</th>\n",
              "      <th>Region_Code_RG251</th>\n",
              "      <th>Region_Code_RG252</th>\n",
              "      <th>Region_Code_RG253</th>\n",
              "      <th>Region_Code_RG254</th>\n",
              "      <th>Region_Code_RG255</th>\n",
              "      <th>Region_Code_RG256</th>\n",
              "      <th>Region_Code_RG257</th>\n",
              "      <th>Region_Code_RG258</th>\n",
              "      <th>Region_Code_RG259</th>\n",
              "      <th>Region_Code_RG260</th>\n",
              "      <th>Region_Code_RG261</th>\n",
              "      <th>Region_Code_RG262</th>\n",
              "      <th>Region_Code_RG263</th>\n",
              "      <th>Region_Code_RG264</th>\n",
              "      <th>Region_Code_RG265</th>\n",
              "      <th>Region_Code_RG266</th>\n",
              "      <th>Region_Code_RG267</th>\n",
              "      <th>Region_Code_RG268</th>\n",
              "      <th>Region_Code_RG269</th>\n",
              "      <th>Region_Code_RG270</th>\n",
              "      <th>Region_Code_RG271</th>\n",
              "      <th>Region_Code_RG272</th>\n",
              "      <th>Region_Code_RG273</th>\n",
              "      <th>Region_Code_RG274</th>\n",
              "      <th>Region_Code_RG275</th>\n",
              "      <th>Region_Code_RG276</th>\n",
              "      <th>Region_Code_RG277</th>\n",
              "      <th>Region_Code_RG278</th>\n",
              "      <th>Region_Code_RG279</th>\n",
              "      <th>Region_Code_RG280</th>\n",
              "      <th>Region_Code_RG281</th>\n",
              "      <th>Region_Code_RG282</th>\n",
              "      <th>Region_Code_RG283</th>\n",
              "      <th>Region_Code_RG284</th>\n",
              "      <th>Occupation_Other</th>\n",
              "      <th>Occupation_Salaried</th>\n",
              "      <th>Occupation_Self_Employed</th>\n",
              "      <th>Channel_Code_X2</th>\n",
              "      <th>Channel_Code_X3</th>\n",
              "      <th>Channel_Code_X4</th>\n",
              "      <th>Vintage_Category_CV2</th>\n",
              "      <th>Vintage_Category_CV3</th>\n",
              "      <th>Vintage_Category_CV4</th>\n",
              "      <th>Vintage_Category_CV5</th>\n",
              "      <th>Vintage_Category_CV6</th>\n",
              "      <th>Vintage_Category_CV7</th>\n",
              "      <th>Avg_AcBal_Category_CAB2</th>\n",
              "      <th>Avg_AcBal_Category_CAB3</th>\n",
              "      <th>Avg_AcBal_Category_CAB4</th>\n",
              "      <th>Avg_AcBal_Category_CAB5</th>\n",
              "      <th>Avg_AcBal_Category_CAB6</th>\n",
              "      <th>Avg_AcBal_Category_CAB7</th>\n",
              "      <th>Avg_AcBal_Category_CAB8</th>\n",
              "      <th>Avg_AcBal_Category_CAB9</th>\n",
              "      <th>pred</th>\n",
              "    </tr>\n",
              "    <tr>\n",
              "      <th>ID</th>\n",
              "      <th></th>\n",
              "      <th></th>\n",
              "      <th></th>\n",
              "      <th></th>\n",
              "      <th></th>\n",
              "      <th></th>\n",
              "      <th></th>\n",
              "      <th></th>\n",
              "      <th></th>\n",
              "      <th></th>\n",
              "      <th></th>\n",
              "      <th></th>\n",
              "      <th></th>\n",
              "      <th></th>\n",
              "      <th></th>\n",
              "      <th></th>\n",
              "      <th></th>\n",
              "      <th></th>\n",
              "      <th></th>\n",
              "      <th></th>\n",
              "      <th></th>\n",
              "      <th></th>\n",
              "      <th></th>\n",
              "      <th></th>\n",
              "      <th></th>\n",
              "      <th></th>\n",
              "      <th></th>\n",
              "      <th></th>\n",
              "      <th></th>\n",
              "      <th></th>\n",
              "      <th></th>\n",
              "      <th></th>\n",
              "      <th></th>\n",
              "      <th></th>\n",
              "      <th></th>\n",
              "      <th></th>\n",
              "      <th></th>\n",
              "      <th></th>\n",
              "      <th></th>\n",
              "      <th></th>\n",
              "      <th></th>\n",
              "      <th></th>\n",
              "      <th></th>\n",
              "      <th></th>\n",
              "      <th></th>\n",
              "      <th></th>\n",
              "      <th></th>\n",
              "      <th></th>\n",
              "      <th></th>\n",
              "      <th></th>\n",
              "      <th></th>\n",
              "      <th></th>\n",
              "      <th></th>\n",
              "      <th></th>\n",
              "      <th></th>\n",
              "      <th></th>\n",
              "      <th></th>\n",
              "      <th></th>\n",
              "      <th></th>\n",
              "      <th></th>\n",
              "      <th></th>\n",
              "      <th></th>\n",
              "    </tr>\n",
              "  </thead>\n",
              "  <tbody>\n",
              "    <tr>\n",
              "      <th>VBENBARO</th>\n",
              "      <td>1</td>\n",
              "      <td>0</td>\n",
              "      <td>1</td>\n",
              "      <td>0</td>\n",
              "      <td>0</td>\n",
              "      <td>0</td>\n",
              "      <td>0</td>\n",
              "      <td>0</td>\n",
              "      <td>0</td>\n",
              "      <td>0</td>\n",
              "      <td>1</td>\n",
              "      <td>0</td>\n",
              "      <td>0</td>\n",
              "      <td>0</td>\n",
              "      <td>0</td>\n",
              "      <td>0</td>\n",
              "      <td>0</td>\n",
              "      <td>0</td>\n",
              "      <td>0</td>\n",
              "      <td>0</td>\n",
              "      <td>0</td>\n",
              "      <td>0</td>\n",
              "      <td>0</td>\n",
              "      <td>0</td>\n",
              "      <td>0</td>\n",
              "      <td>0</td>\n",
              "      <td>0</td>\n",
              "      <td>0</td>\n",
              "      <td>0</td>\n",
              "      <td>0</td>\n",
              "      <td>0</td>\n",
              "      <td>0</td>\n",
              "      <td>0</td>\n",
              "      <td>0</td>\n",
              "      <td>0</td>\n",
              "      <td>0</td>\n",
              "      <td>0</td>\n",
              "      <td>0</td>\n",
              "      <td>0</td>\n",
              "      <td>0</td>\n",
              "      <td>0</td>\n",
              "      <td>1</td>\n",
              "      <td>0</td>\n",
              "      <td>0</td>\n",
              "      <td>0</td>\n",
              "      <td>0</td>\n",
              "      <td>0</td>\n",
              "      <td>1</td>\n",
              "      <td>0</td>\n",
              "      <td>0</td>\n",
              "      <td>0</td>\n",
              "      <td>0</td>\n",
              "      <td>0</td>\n",
              "      <td>0</td>\n",
              "      <td>0</td>\n",
              "      <td>0</td>\n",
              "      <td>1</td>\n",
              "      <td>0</td>\n",
              "      <td>0</td>\n",
              "      <td>0</td>\n",
              "      <td>0</td>\n",
              "      <td>0.036355</td>\n",
              "    </tr>\n",
              "    <tr>\n",
              "      <th>CCMEWNKY</th>\n",
              "      <td>0</td>\n",
              "      <td>0</td>\n",
              "      <td>1</td>\n",
              "      <td>1</td>\n",
              "      <td>0</td>\n",
              "      <td>0</td>\n",
              "      <td>0</td>\n",
              "      <td>0</td>\n",
              "      <td>0</td>\n",
              "      <td>0</td>\n",
              "      <td>0</td>\n",
              "      <td>0</td>\n",
              "      <td>0</td>\n",
              "      <td>0</td>\n",
              "      <td>0</td>\n",
              "      <td>0</td>\n",
              "      <td>0</td>\n",
              "      <td>0</td>\n",
              "      <td>0</td>\n",
              "      <td>0</td>\n",
              "      <td>0</td>\n",
              "      <td>0</td>\n",
              "      <td>0</td>\n",
              "      <td>0</td>\n",
              "      <td>1</td>\n",
              "      <td>0</td>\n",
              "      <td>0</td>\n",
              "      <td>0</td>\n",
              "      <td>0</td>\n",
              "      <td>0</td>\n",
              "      <td>0</td>\n",
              "      <td>0</td>\n",
              "      <td>0</td>\n",
              "      <td>0</td>\n",
              "      <td>0</td>\n",
              "      <td>0</td>\n",
              "      <td>0</td>\n",
              "      <td>0</td>\n",
              "      <td>0</td>\n",
              "      <td>0</td>\n",
              "      <td>0</td>\n",
              "      <td>1</td>\n",
              "      <td>0</td>\n",
              "      <td>0</td>\n",
              "      <td>1</td>\n",
              "      <td>0</td>\n",
              "      <td>0</td>\n",
              "      <td>0</td>\n",
              "      <td>0</td>\n",
              "      <td>1</td>\n",
              "      <td>0</td>\n",
              "      <td>0</td>\n",
              "      <td>0</td>\n",
              "      <td>0</td>\n",
              "      <td>0</td>\n",
              "      <td>0</td>\n",
              "      <td>1</td>\n",
              "      <td>0</td>\n",
              "      <td>0</td>\n",
              "      <td>0</td>\n",
              "      <td>0</td>\n",
              "      <td>0.252141</td>\n",
              "    </tr>\n",
              "    <tr>\n",
              "      <th>VK3KGA9M</th>\n",
              "      <td>0</td>\n",
              "      <td>0</td>\n",
              "      <td>1</td>\n",
              "      <td>1</td>\n",
              "      <td>0</td>\n",
              "      <td>0</td>\n",
              "      <td>0</td>\n",
              "      <td>0</td>\n",
              "      <td>0</td>\n",
              "      <td>0</td>\n",
              "      <td>0</td>\n",
              "      <td>0</td>\n",
              "      <td>0</td>\n",
              "      <td>0</td>\n",
              "      <td>0</td>\n",
              "      <td>0</td>\n",
              "      <td>0</td>\n",
              "      <td>0</td>\n",
              "      <td>0</td>\n",
              "      <td>0</td>\n",
              "      <td>0</td>\n",
              "      <td>0</td>\n",
              "      <td>0</td>\n",
              "      <td>0</td>\n",
              "      <td>0</td>\n",
              "      <td>0</td>\n",
              "      <td>1</td>\n",
              "      <td>0</td>\n",
              "      <td>0</td>\n",
              "      <td>0</td>\n",
              "      <td>0</td>\n",
              "      <td>0</td>\n",
              "      <td>0</td>\n",
              "      <td>0</td>\n",
              "      <td>0</td>\n",
              "      <td>0</td>\n",
              "      <td>0</td>\n",
              "      <td>0</td>\n",
              "      <td>0</td>\n",
              "      <td>0</td>\n",
              "      <td>0</td>\n",
              "      <td>0</td>\n",
              "      <td>1</td>\n",
              "      <td>0</td>\n",
              "      <td>0</td>\n",
              "      <td>0</td>\n",
              "      <td>0</td>\n",
              "      <td>0</td>\n",
              "      <td>0</td>\n",
              "      <td>0</td>\n",
              "      <td>0</td>\n",
              "      <td>0</td>\n",
              "      <td>0</td>\n",
              "      <td>0</td>\n",
              "      <td>1</td>\n",
              "      <td>0</td>\n",
              "      <td>0</td>\n",
              "      <td>0</td>\n",
              "      <td>0</td>\n",
              "      <td>0</td>\n",
              "      <td>0</td>\n",
              "      <td>0.093513</td>\n",
              "    </tr>\n",
              "    <tr>\n",
              "      <th>TT8RPZVC</th>\n",
              "      <td>0</td>\n",
              "      <td>0</td>\n",
              "      <td>1</td>\n",
              "      <td>0</td>\n",
              "      <td>0</td>\n",
              "      <td>0</td>\n",
              "      <td>0</td>\n",
              "      <td>0</td>\n",
              "      <td>0</td>\n",
              "      <td>0</td>\n",
              "      <td>0</td>\n",
              "      <td>0</td>\n",
              "      <td>0</td>\n",
              "      <td>0</td>\n",
              "      <td>0</td>\n",
              "      <td>0</td>\n",
              "      <td>0</td>\n",
              "      <td>0</td>\n",
              "      <td>0</td>\n",
              "      <td>0</td>\n",
              "      <td>0</td>\n",
              "      <td>0</td>\n",
              "      <td>0</td>\n",
              "      <td>0</td>\n",
              "      <td>0</td>\n",
              "      <td>0</td>\n",
              "      <td>0</td>\n",
              "      <td>0</td>\n",
              "      <td>1</td>\n",
              "      <td>0</td>\n",
              "      <td>0</td>\n",
              "      <td>0</td>\n",
              "      <td>0</td>\n",
              "      <td>0</td>\n",
              "      <td>0</td>\n",
              "      <td>0</td>\n",
              "      <td>0</td>\n",
              "      <td>0</td>\n",
              "      <td>0</td>\n",
              "      <td>0</td>\n",
              "      <td>0</td>\n",
              "      <td>1</td>\n",
              "      <td>0</td>\n",
              "      <td>0</td>\n",
              "      <td>0</td>\n",
              "      <td>0</td>\n",
              "      <td>0</td>\n",
              "      <td>0</td>\n",
              "      <td>1</td>\n",
              "      <td>0</td>\n",
              "      <td>0</td>\n",
              "      <td>0</td>\n",
              "      <td>0</td>\n",
              "      <td>0</td>\n",
              "      <td>0</td>\n",
              "      <td>0</td>\n",
              "      <td>1</td>\n",
              "      <td>0</td>\n",
              "      <td>0</td>\n",
              "      <td>0</td>\n",
              "      <td>0</td>\n",
              "      <td>0.032044</td>\n",
              "    </tr>\n",
              "    <tr>\n",
              "      <th>SHQZEYTZ</th>\n",
              "      <td>0</td>\n",
              "      <td>0</td>\n",
              "      <td>0</td>\n",
              "      <td>0</td>\n",
              "      <td>0</td>\n",
              "      <td>0</td>\n",
              "      <td>0</td>\n",
              "      <td>0</td>\n",
              "      <td>0</td>\n",
              "      <td>0</td>\n",
              "      <td>0</td>\n",
              "      <td>0</td>\n",
              "      <td>0</td>\n",
              "      <td>0</td>\n",
              "      <td>0</td>\n",
              "      <td>0</td>\n",
              "      <td>0</td>\n",
              "      <td>0</td>\n",
              "      <td>0</td>\n",
              "      <td>0</td>\n",
              "      <td>0</td>\n",
              "      <td>0</td>\n",
              "      <td>0</td>\n",
              "      <td>0</td>\n",
              "      <td>0</td>\n",
              "      <td>0</td>\n",
              "      <td>1</td>\n",
              "      <td>0</td>\n",
              "      <td>0</td>\n",
              "      <td>0</td>\n",
              "      <td>0</td>\n",
              "      <td>0</td>\n",
              "      <td>0</td>\n",
              "      <td>0</td>\n",
              "      <td>0</td>\n",
              "      <td>0</td>\n",
              "      <td>0</td>\n",
              "      <td>0</td>\n",
              "      <td>0</td>\n",
              "      <td>0</td>\n",
              "      <td>0</td>\n",
              "      <td>1</td>\n",
              "      <td>0</td>\n",
              "      <td>0</td>\n",
              "      <td>0</td>\n",
              "      <td>0</td>\n",
              "      <td>0</td>\n",
              "      <td>1</td>\n",
              "      <td>0</td>\n",
              "      <td>0</td>\n",
              "      <td>0</td>\n",
              "      <td>0</td>\n",
              "      <td>0</td>\n",
              "      <td>0</td>\n",
              "      <td>0</td>\n",
              "      <td>1</td>\n",
              "      <td>0</td>\n",
              "      <td>0</td>\n",
              "      <td>0</td>\n",
              "      <td>0</td>\n",
              "      <td>0</td>\n",
              "      <td>0.019073</td>\n",
              "    </tr>\n",
              "  </tbody>\n",
              "</table>\n",
              "</div>"
            ],
            "text/plain": [
              "          Credit_Product  Is_Active  ...  Avg_AcBal_Category_CAB9      pred\n",
              "ID                                   ...                                   \n",
              "VBENBARO               1          0  ...                        0  0.036355\n",
              "CCMEWNKY               0          0  ...                        0  0.252141\n",
              "VK3KGA9M               0          0  ...                        0  0.093513\n",
              "TT8RPZVC               0          0  ...                        0  0.032044\n",
              "SHQZEYTZ               0          0  ...                        0  0.019073\n",
              "\n",
              "[5 rows x 62 columns]"
            ]
          },
          "metadata": {
            "tags": []
          },
          "execution_count": 768
        }
      ]
    },
    {
      "cell_type": "code",
      "metadata": {
        "id": "8C1HboFfVfCc"
      },
      "source": [
        "### Determine Optimal Cut off point from training data"
      ],
      "execution_count": 769,
      "outputs": []
    },
    {
      "cell_type": "code",
      "metadata": {
        "colab": {
          "base_uri": "https://localhost:8080/",
          "height": 195
        },
        "id": "xNhDpvK0m0qk",
        "outputId": "2b749651-fcd1-4606-846c-4576f1a0cddd"
      },
      "source": [
        "# Create a new dataframe containing the actual conversion flag and the probabilities predicted by the mode\n",
        "#y_train_pred = xgb_model1.predict_proba(X_train)[:, 1]\n",
        "y_train_pred = clf_xgb2.predict_proba(X_train)[:, 1]\n",
        "#y_train_pred = clf_xgb3.predict_proba(X_train)[:, 1]\n",
        "y_train_pred_final = pd.DataFrame({'Converted':y_train.values, 'Conversion_Prob':y_train_pred})\n",
        "y_train_pred_final['ID'] = y_train.index\n",
        "y_train_pred_final.head()"
      ],
      "execution_count": 770,
      "outputs": [
        {
          "output_type": "execute_result",
          "data": {
            "text/html": [
              "<div>\n",
              "<style scoped>\n",
              "    .dataframe tbody tr th:only-of-type {\n",
              "        vertical-align: middle;\n",
              "    }\n",
              "\n",
              "    .dataframe tbody tr th {\n",
              "        vertical-align: top;\n",
              "    }\n",
              "\n",
              "    .dataframe thead th {\n",
              "        text-align: right;\n",
              "    }\n",
              "</style>\n",
              "<table border=\"1\" class=\"dataframe\">\n",
              "  <thead>\n",
              "    <tr style=\"text-align: right;\">\n",
              "      <th></th>\n",
              "      <th>Converted</th>\n",
              "      <th>Conversion_Prob</th>\n",
              "      <th>ID</th>\n",
              "    </tr>\n",
              "  </thead>\n",
              "  <tbody>\n",
              "    <tr>\n",
              "      <th>0</th>\n",
              "      <td>1</td>\n",
              "      <td>0.087868</td>\n",
              "      <td>L29UAVJD</td>\n",
              "    </tr>\n",
              "    <tr>\n",
              "      <th>1</th>\n",
              "      <td>0</td>\n",
              "      <td>0.015115</td>\n",
              "      <td>NMRKVXVD</td>\n",
              "    </tr>\n",
              "    <tr>\n",
              "      <th>2</th>\n",
              "      <td>0</td>\n",
              "      <td>0.084063</td>\n",
              "      <td>QJWQ3P6U</td>\n",
              "    </tr>\n",
              "    <tr>\n",
              "      <th>3</th>\n",
              "      <td>1</td>\n",
              "      <td>0.298011</td>\n",
              "      <td>MNXHWV8Y</td>\n",
              "    </tr>\n",
              "    <tr>\n",
              "      <th>4</th>\n",
              "      <td>0</td>\n",
              "      <td>0.369010</td>\n",
              "      <td>JEMGWPXT</td>\n",
              "    </tr>\n",
              "  </tbody>\n",
              "</table>\n",
              "</div>"
            ],
            "text/plain": [
              "   Converted  Conversion_Prob        ID\n",
              "0          1         0.087868  L29UAVJD\n",
              "1          0         0.015115  NMRKVXVD\n",
              "2          0         0.084063  QJWQ3P6U\n",
              "3          1         0.298011  MNXHWV8Y\n",
              "4          0         0.369010  JEMGWPXT"
            ]
          },
          "metadata": {
            "tags": []
          },
          "execution_count": 770
        }
      ]
    },
    {
      "cell_type": "code",
      "metadata": {
        "id": "57xAGfTdWHSm"
      },
      "source": [
        "fpr, tpr, thresholds = metrics.roc_curve( y_train_pred_final.Converted, y_train_pred_final.Conversion_Prob, drop_intermediate = False )"
      ],
      "execution_count": 771,
      "outputs": []
    },
    {
      "cell_type": "code",
      "metadata": {
        "colab": {
          "base_uri": "https://localhost:8080/",
          "height": 350
        },
        "id": "oXLXq0-EWTGD",
        "outputId": "e99313f2-0043-4df5-b67f-82e40258e5b3"
      },
      "source": [
        "draw_roc(y_train_pred_final.Converted, y_train_pred_final.Conversion_Prob)"
      ],
      "execution_count": 772,
      "outputs": [
        {
          "output_type": "display_data",
          "data": {
            "image/png": "[encoded data removed]",
            "text/plain": [
              "<Figure size 360x360 with 1 Axes>"
            ]
          },
          "metadata": {
            "tags": [],
            "needs_background": "light"
          }
        }
      ]
    },
    {
      "cell_type": "code",
      "metadata": {
        "id": "NIULt3fhWrdX"
      },
      "source": [
        "### Optimal Cut off Point Check"
      ],
      "execution_count": 773,
      "outputs": []
    },
    {
      "cell_type": "code",
      "metadata": {
        "colab": {
          "base_uri": "https://localhost:8080/",
          "height": 195
        },
        "id": "n7SjH5asW0fe",
        "outputId": "2ffc9289-52c8-44a1-a781-3916dae8391b"
      },
      "source": [
        "# create columns with different probability cutoffs \n",
        "numbers = [float(x)/10 for x in range(10)]\n",
        "for i in numbers:\n",
        "    y_train_pred_final[i]= y_train_pred_final.Conversion_Prob.map(lambda x: 1 if x > i else 0)\n",
        "y_train_pred_final.head()"
      ],
      "execution_count": 774,
      "outputs": [
        {
          "output_type": "execute_result",
          "data": {
            "text/html": [
              "<div>\n",
              "<style scoped>\n",
              "    .dataframe tbody tr th:only-of-type {\n",
              "        vertical-align: middle;\n",
              "    }\n",
              "\n",
              "    .dataframe tbody tr th {\n",
              "        vertical-align: top;\n",
              "    }\n",
              "\n",
              "    .dataframe thead th {\n",
              "        text-align: right;\n",
              "    }\n",
              "</style>\n",
              "<table border=\"1\" class=\"dataframe\">\n",
              "  <thead>\n",
              "    <tr style=\"text-align: right;\">\n",
              "      <th></th>\n",
              "      <th>Converted</th>\n",
              "      <th>Conversion_Prob</th>\n",
              "      <th>ID</th>\n",
              "      <th>0.0</th>\n",
              "      <th>0.1</th>\n",
              "      <th>0.2</th>\n",
              "      <th>0.3</th>\n",
              "      <th>0.4</th>\n",
              "      <th>0.5</th>\n",
              "      <th>0.6</th>\n",
              "      <th>0.7</th>\n",
              "      <th>0.8</th>\n",
              "      <th>0.9</th>\n",
              "    </tr>\n",
              "  </thead>\n",
              "  <tbody>\n",
              "    <tr>\n",
              "      <th>0</th>\n",
              "      <td>1</td>\n",
              "      <td>0.087868</td>\n",
              "      <td>L29UAVJD</td>\n",
              "      <td>1</td>\n",
              "      <td>0</td>\n",
              "      <td>0</td>\n",
              "      <td>0</td>\n",
              "      <td>0</td>\n",
              "      <td>0</td>\n",
              "      <td>0</td>\n",
              "      <td>0</td>\n",
              "      <td>0</td>\n",
              "      <td>0</td>\n",
              "    </tr>\n",
              "    <tr>\n",
              "      <th>1</th>\n",
              "      <td>0</td>\n",
              "      <td>0.015115</td>\n",
              "      <td>NMRKVXVD</td>\n",
              "      <td>1</td>\n",
              "      <td>0</td>\n",
              "      <td>0</td>\n",
              "      <td>0</td>\n",
              "      <td>0</td>\n",
              "      <td>0</td>\n",
              "      <td>0</td>\n",
              "      <td>0</td>\n",
              "      <td>0</td>\n",
              "      <td>0</td>\n",
              "    </tr>\n",
              "    <tr>\n",
              "      <th>2</th>\n",
              "      <td>0</td>\n",
              "      <td>0.084063</td>\n",
              "      <td>QJWQ3P6U</td>\n",
              "      <td>1</td>\n",
              "      <td>0</td>\n",
              "      <td>0</td>\n",
              "      <td>0</td>\n",
              "      <td>0</td>\n",
              "      <td>0</td>\n",
              "      <td>0</td>\n",
              "      <td>0</td>\n",
              "      <td>0</td>\n",
              "      <td>0</td>\n",
              "    </tr>\n",
              "    <tr>\n",
              "      <th>3</th>\n",
              "      <td>1</td>\n",
              "      <td>0.298011</td>\n",
              "      <td>MNXHWV8Y</td>\n",
              "      <td>1</td>\n",
              "      <td>1</td>\n",
              "      <td>1</td>\n",
              "      <td>0</td>\n",
              "      <td>0</td>\n",
              "      <td>0</td>\n",
              "      <td>0</td>\n",
              "      <td>0</td>\n",
              "      <td>0</td>\n",
              "      <td>0</td>\n",
              "    </tr>\n",
              "    <tr>\n",
              "      <th>4</th>\n",
              "      <td>0</td>\n",
              "      <td>0.369010</td>\n",
              "      <td>JEMGWPXT</td>\n",
              "      <td>1</td>\n",
              "      <td>1</td>\n",
              "      <td>1</td>\n",
              "      <td>1</td>\n",
              "      <td>0</td>\n",
              "      <td>0</td>\n",
              "      <td>0</td>\n",
              "      <td>0</td>\n",
              "      <td>0</td>\n",
              "      <td>0</td>\n",
              "    </tr>\n",
              "  </tbody>\n",
              "</table>\n",
              "</div>"
            ],
            "text/plain": [
              "   Converted  Conversion_Prob        ID  0.0  0.1  ...  0.5  0.6  0.7  0.8  0.9\n",
              "0          1         0.087868  L29UAVJD    1    0  ...    0    0    0    0    0\n",
              "1          0         0.015115  NMRKVXVD    1    0  ...    0    0    0    0    0\n",
              "2          0         0.084063  QJWQ3P6U    1    0  ...    0    0    0    0    0\n",
              "3          1         0.298011  MNXHWV8Y    1    1  ...    0    0    0    0    0\n",
              "4          0         0.369010  JEMGWPXT    1    1  ...    0    0    0    0    0\n",
              "\n",
              "[5 rows x 13 columns]"
            ]
          },
          "metadata": {
            "tags": []
          },
          "execution_count": 774
        }
      ]
    },
    {
      "cell_type": "code",
      "metadata": {
        "colab": {
          "base_uri": "https://localhost:8080/"
        },
        "id": "b9uciMcoW9gn",
        "outputId": "0c54ac50-d112-4f82-c383-c7302cca830a"
      },
      "source": [
        "# create a dataframe to see the values of accuracy, sensitivity, and specificity at different values of probability cutoffs\n",
        "\n",
        "cutoff_df = pd.DataFrame( columns = ['prob','accuracy','sensi','speci'])\n",
        "from sklearn.metrics import confusion_matrix\n",
        "\n",
        "# TP = confusion[1,1] # true positive \n",
        "# TN = confusion[0,0] # true negatives\n",
        "# FP = confusion[0,1] # false positives\n",
        "# FN = confusion[1,0] # false negatives\n",
        "\n",
        "num = [0.0,0.1,0.2,0.3,0.4,0.5,0.6,0.7,0.8,0.9]\n",
        "for i in num:\n",
        "    cm1 = metrics.confusion_matrix(y_train_pred_final.Converted, y_train_pred_final[i] )\n",
        "    total1=sum(sum(cm1))\n",
        "    accuracy = (cm1[0,0]+cm1[1,1])/total1\n",
        "    \n",
        "    speci = cm1[0,0]/(cm1[0,0]+cm1[0,1])\n",
        "    sensi = cm1[1,1]/(cm1[1,0]+cm1[1,1])\n",
        "    cutoff_df.loc[i] =[ i ,accuracy,sensi,speci]\n",
        "print(cutoff_df)"
      ],
      "execution_count": 775,
      "outputs": [
        {
          "output_type": "stream",
          "text": [
            "     prob  accuracy     sensi     speci\n",
            "0.0   0.0  0.237641  1.000000  0.000000\n",
            "0.1   0.1  0.552007  0.914204  0.439103\n",
            "0.2   0.2  0.672769  0.821313  0.626465\n",
            "0.3   0.3  0.754929  0.661782  0.783964\n",
            "0.4   0.4  0.794194  0.460808  0.898117\n",
            "0.5   0.5  0.800526  0.290513  0.959506\n",
            "0.6   0.6  0.793107  0.162173  0.989781\n",
            "0.7   0.7  0.786474  0.108646  0.997766\n",
            "0.8   0.8  0.782724  0.087949  0.999298\n",
            "0.9   0.9  0.780067  0.075105  0.999817\n"
          ],
          "name": "stdout"
        }
      ]
    },
    {
      "cell_type": "code",
      "metadata": {
        "colab": {
          "base_uri": "https://localhost:8080/",
          "height": 279
        },
        "id": "jlINi8WGXFLo",
        "outputId": "a5678400-6dfc-49ad-d3bd-90e1b06c4d89"
      },
      "source": [
        "# Let's plot accuracy sensitivity and specificity for various probabilities.\n",
        "cutoff_df.plot.line(x='prob', y=['accuracy','sensi','speci'])\n",
        "plt.show()"
      ],
      "execution_count": 776,
      "outputs": [
        {
          "output_type": "display_data",
          "data": {
            "image/png": "[encoded data removed]",
            "text/plain": [
              "<Figure size 432x288 with 1 Axes>"
            ]
          },
          "metadata": {
            "tags": [],
            "needs_background": "light"
          }
        }
      ]
    },
    {
      "cell_type": "code",
      "metadata": {
        "colab": {
          "base_uri": "https://localhost:8080/",
          "height": 195
        },
        "id": "hwbjKzfzXOIN",
        "outputId": "add05ab4-12a4-40be-83a4-6a190d4d1f37"
      },
      "source": [
        "#### From the curve above, approx value of 0.25 is the optimum point to take it as a cutoff probability.\n",
        "\n",
        "y_train_pred_final['final_Predicted'] = y_train_pred_final.Conversion_Prob.map( lambda x: 1 if x > 0.25 else 0)\n",
        "y_train_pred_final.head()"
      ],
      "execution_count": 777,
      "outputs": [
        {
          "output_type": "execute_result",
          "data": {
            "text/html": [
              "<div>\n",
              "<style scoped>\n",
              "    .dataframe tbody tr th:only-of-type {\n",
              "        vertical-align: middle;\n",
              "    }\n",
              "\n",
              "    .dataframe tbody tr th {\n",
              "        vertical-align: top;\n",
              "    }\n",
              "\n",
              "    .dataframe thead th {\n",
              "        text-align: right;\n",
              "    }\n",
              "</style>\n",
              "<table border=\"1\" class=\"dataframe\">\n",
              "  <thead>\n",
              "    <tr style=\"text-align: right;\">\n",
              "      <th></th>\n",
              "      <th>Converted</th>\n",
              "      <th>Conversion_Prob</th>\n",
              "      <th>ID</th>\n",
              "      <th>0.0</th>\n",
              "      <th>0.1</th>\n",
              "      <th>0.2</th>\n",
              "      <th>0.3</th>\n",
              "      <th>0.4</th>\n",
              "      <th>0.5</th>\n",
              "      <th>0.6</th>\n",
              "      <th>0.7</th>\n",
              "      <th>0.8</th>\n",
              "      <th>0.9</th>\n",
              "      <th>final_Predicted</th>\n",
              "    </tr>\n",
              "  </thead>\n",
              "  <tbody>\n",
              "    <tr>\n",
              "      <th>0</th>\n",
              "      <td>1</td>\n",
              "      <td>0.087868</td>\n",
              "      <td>L29UAVJD</td>\n",
              "      <td>1</td>\n",
              "      <td>0</td>\n",
              "      <td>0</td>\n",
              "      <td>0</td>\n",
              "      <td>0</td>\n",
              "      <td>0</td>\n",
              "      <td>0</td>\n",
              "      <td>0</td>\n",
              "      <td>0</td>\n",
              "      <td>0</td>\n",
              "      <td>0</td>\n",
              "    </tr>\n",
              "    <tr>\n",
              "      <th>1</th>\n",
              "      <td>0</td>\n",
              "      <td>0.015115</td>\n",
              "      <td>NMRKVXVD</td>\n",
              "      <td>1</td>\n",
              "      <td>0</td>\n",
              "      <td>0</td>\n",
              "      <td>0</td>\n",
              "      <td>0</td>\n",
              "      <td>0</td>\n",
              "      <td>0</td>\n",
              "      <td>0</td>\n",
              "      <td>0</td>\n",
              "      <td>0</td>\n",
              "      <td>0</td>\n",
              "    </tr>\n",
              "    <tr>\n",
              "      <th>2</th>\n",
              "      <td>0</td>\n",
              "      <td>0.084063</td>\n",
              "      <td>QJWQ3P6U</td>\n",
              "      <td>1</td>\n",
              "      <td>0</td>\n",
              "      <td>0</td>\n",
              "      <td>0</td>\n",
              "      <td>0</td>\n",
              "      <td>0</td>\n",
              "      <td>0</td>\n",
              "      <td>0</td>\n",
              "      <td>0</td>\n",
              "      <td>0</td>\n",
              "      <td>0</td>\n",
              "    </tr>\n",
              "    <tr>\n",
              "      <th>3</th>\n",
              "      <td>1</td>\n",
              "      <td>0.298011</td>\n",
              "      <td>MNXHWV8Y</td>\n",
              "      <td>1</td>\n",
              "      <td>1</td>\n",
              "      <td>1</td>\n",
              "      <td>0</td>\n",
              "      <td>0</td>\n",
              "      <td>0</td>\n",
              "      <td>0</td>\n",
              "      <td>0</td>\n",
              "      <td>0</td>\n",
              "      <td>0</td>\n",
              "      <td>1</td>\n",
              "    </tr>\n",
              "    <tr>\n",
              "      <th>4</th>\n",
              "      <td>0</td>\n",
              "      <td>0.369010</td>\n",
              "      <td>JEMGWPXT</td>\n",
              "      <td>1</td>\n",
              "      <td>1</td>\n",
              "      <td>1</td>\n",
              "      <td>1</td>\n",
              "      <td>0</td>\n",
              "      <td>0</td>\n",
              "      <td>0</td>\n",
              "      <td>0</td>\n",
              "      <td>0</td>\n",
              "      <td>0</td>\n",
              "      <td>1</td>\n",
              "    </tr>\n",
              "  </tbody>\n",
              "</table>\n",
              "</div>"
            ],
            "text/plain": [
              "   Converted  Conversion_Prob        ID  0.0  ...  0.7  0.8  0.9  final_Predicted\n",
              "0          1         0.087868  L29UAVJD    1  ...    0    0    0                0\n",
              "1          0         0.015115  NMRKVXVD    1  ...    0    0    0                0\n",
              "2          0         0.084063  QJWQ3P6U    1  ...    0    0    0                0\n",
              "3          1         0.298011  MNXHWV8Y    1  ...    0    0    0                1\n",
              "4          0         0.369010  JEMGWPXT    1  ...    0    0    0                1\n",
              "\n",
              "[5 rows x 14 columns]"
            ]
          },
          "metadata": {
            "tags": []
          },
          "execution_count": 777
        }
      ]
    },
    {
      "cell_type": "code",
      "metadata": {
        "colab": {
          "base_uri": "https://localhost:8080/",
          "height": 17
        },
        "id": "bvCZX69W5U0O",
        "outputId": "e9d007c3-87d0-4f7e-9b1b-bb44cf42cc8a"
      },
      "source": [
        "### Apply Optimal CutOff on Test Set and Download for Submission.\n",
        "\n",
        "leads_df_test.head()\n",
        "#### From the curve above, approx value of 0.25 is the optimum point to take it as a cutoff probability.\n",
        "\n",
        "leads_df_test['final_Predicted'] = leads_df_test.pred.map( lambda x: 1 if x > 0.25 else 0)\n",
        "leads_df_test.head()\n",
        "leads_df_test['ID'] = leads_df_test.index\n",
        "leads_df_test[['ID','final_Predicted']].to_csv('final_predicted.csv')\n",
        "files.download('final_predicted.csv')\n"
      ],
      "execution_count": 778,
      "outputs": [
        {
          "output_type": "display_data",
          "data": {
            "application/javascript": [
              "\n",
              "    async function download(id, filename, size) {\n",
              "      if (!google.colab.kernel.accessAllowed) {\n",
              "        return;\n",
              "      }\n",
              "      const div = document.createElement('div');\n",
              "      const label = document.createElement('label');\n",
              "      label.textContent = `Downloading \"${filename}\": `;\n",
              "      div.appendChild(label);\n",
              "      const progress = document.createElement('progress');\n",
              "      progress.max = size;\n",
              "      div.appendChild(progress);\n",
              "      document.body.appendChild(div);\n",
              "\n",
              "      const buffers = [];\n",
              "      let downloaded = 0;\n",
              "\n",
              "      const channel = await google.colab.kernel.comms.open(id);\n",
              "      // Send a message to notify the kernel that we're ready.\n",
              "      channel.send({})\n",
              "\n",
              "      for await (const message of channel.messages) {\n",
              "        // Send a message to notify the kernel that we're ready.\n",
              "        channel.send({})\n",
              "        if (message.buffers) {\n",
              "          for (const buffer of message.buffers) {\n",
              "            buffers.push(buffer);\n",
              "            downloaded += buffer.byteLength;\n",
              "            progress.value = downloaded;\n",
              "          }\n",
              "        }\n",
              "      }\n",
              "      const blob = new Blob(buffers, {type: 'application/binary'});\n",
              "      const a = document.createElement('a');\n",
              "      a.href = window.URL.createObjectURL(blob);\n",
              "      a.download = filename;\n",
              "      div.appendChild(a);\n",
              "      a.click();\n",
              "      div.remove();\n",
              "    }\n",
              "  "
            ],
            "text/plain": [
              "<IPython.core.display.Javascript object>"
            ]
          },
          "metadata": {
            "tags": []
          }
        },
        {
          "output_type": "display_data",
          "data": {
            "application/javascript": [
              "download(\"download_23cea037-eba5-446c-8ccf-e638a232a277\", \"final_predicted.csv\", 2106262)"
            ],
            "text/plain": [
              "<IPython.core.display.Javascript object>"
            ]
          },
          "metadata": {
            "tags": []
          }
        }
      ]
    },
    {
      "cell_type": "code",
      "metadata": {
        "id": "QTXzLiXY-qqQ"
      },
      "source": [
        "### Some checks below on Final Training Prediction."
      ],
      "execution_count": 779,
      "outputs": []
    },
    {
      "cell_type": "code",
      "metadata": {
        "colab": {
          "base_uri": "https://localhost:8080/",
          "height": 195
        },
        "id": "sttwSDapXUCV",
        "outputId": "272f731f-5a7d-4b73-aba7-f64c753ec094"
      },
      "source": [
        "## Adding Lead Core Column : Lead Score = 100 * ConversionProbability\n",
        "y_train_pred_final['Lead_Score'] = y_train_pred_final.Conversion_Prob.map( lambda x: round(x*100))\n",
        "\n",
        "# Display Data\n",
        "y_train_pred_final[['Converted','Conversion_Prob','ID','final_Predicted','Lead_Score']].head()"
      ],
      "execution_count": 780,
      "outputs": [
        {
          "output_type": "execute_result",
          "data": {
            "text/html": [
              "<div>\n",
              "<style scoped>\n",
              "    .dataframe tbody tr th:only-of-type {\n",
              "        vertical-align: middle;\n",
              "    }\n",
              "\n",
              "    .dataframe tbody tr th {\n",
              "        vertical-align: top;\n",
              "    }\n",
              "\n",
              "    .dataframe thead th {\n",
              "        text-align: right;\n",
              "    }\n",
              "</style>\n",
              "<table border=\"1\" class=\"dataframe\">\n",
              "  <thead>\n",
              "    <tr style=\"text-align: right;\">\n",
              "      <th></th>\n",
              "      <th>Converted</th>\n",
              "      <th>Conversion_Prob</th>\n",
              "      <th>ID</th>\n",
              "      <th>final_Predicted</th>\n",
              "      <th>Lead_Score</th>\n",
              "    </tr>\n",
              "  </thead>\n",
              "  <tbody>\n",
              "    <tr>\n",
              "      <th>0</th>\n",
              "      <td>1</td>\n",
              "      <td>0.087868</td>\n",
              "      <td>L29UAVJD</td>\n",
              "      <td>0</td>\n",
              "      <td>9</td>\n",
              "    </tr>\n",
              "    <tr>\n",
              "      <th>1</th>\n",
              "      <td>0</td>\n",
              "      <td>0.015115</td>\n",
              "      <td>NMRKVXVD</td>\n",
              "      <td>0</td>\n",
              "      <td>2</td>\n",
              "    </tr>\n",
              "    <tr>\n",
              "      <th>2</th>\n",
              "      <td>0</td>\n",
              "      <td>0.084063</td>\n",
              "      <td>QJWQ3P6U</td>\n",
              "      <td>0</td>\n",
              "      <td>8</td>\n",
              "    </tr>\n",
              "    <tr>\n",
              "      <th>3</th>\n",
              "      <td>1</td>\n",
              "      <td>0.298011</td>\n",
              "      <td>MNXHWV8Y</td>\n",
              "      <td>1</td>\n",
              "      <td>30</td>\n",
              "    </tr>\n",
              "    <tr>\n",
              "      <th>4</th>\n",
              "      <td>0</td>\n",
              "      <td>0.369010</td>\n",
              "      <td>JEMGWPXT</td>\n",
              "      <td>1</td>\n",
              "      <td>37</td>\n",
              "    </tr>\n",
              "  </tbody>\n",
              "</table>\n",
              "</div>"
            ],
            "text/plain": [
              "   Converted  Conversion_Prob        ID  final_Predicted  Lead_Score\n",
              "0          1         0.087868  L29UAVJD                0           9\n",
              "1          0         0.015115  NMRKVXVD                0           2\n",
              "2          0         0.084063  QJWQ3P6U                0           8\n",
              "3          1         0.298011  MNXHWV8Y                1          30\n",
              "4          0         0.369010  JEMGWPXT                1          37"
            ]
          },
          "metadata": {
            "tags": []
          },
          "execution_count": 780
        }
      ]
    },
    {
      "cell_type": "code",
      "metadata": {
        "colab": {
          "base_uri": "https://localhost:8080/",
          "height": 402
        },
        "id": "1HLFc4G2x_ZK",
        "outputId": "0bb3c1c8-861e-4af3-f780-ae1761510e1b"
      },
      "source": [
        "y_train_pred_final[['ID','final_Predicted']]"
      ],
      "execution_count": 781,
      "outputs": [
        {
          "output_type": "execute_result",
          "data": {
            "text/html": [
              "<div>\n",
              "<style scoped>\n",
              "    .dataframe tbody tr th:only-of-type {\n",
              "        vertical-align: middle;\n",
              "    }\n",
              "\n",
              "    .dataframe tbody tr th {\n",
              "        vertical-align: top;\n",
              "    }\n",
              "\n",
              "    .dataframe thead th {\n",
              "        text-align: right;\n",
              "    }\n",
              "</style>\n",
              "<table border=\"1\" class=\"dataframe\">\n",
              "  <thead>\n",
              "    <tr style=\"text-align: right;\">\n",
              "      <th></th>\n",
              "      <th>ID</th>\n",
              "      <th>final_Predicted</th>\n",
              "    </tr>\n",
              "  </thead>\n",
              "  <tbody>\n",
              "    <tr>\n",
              "      <th>0</th>\n",
              "      <td>L29UAVJD</td>\n",
              "      <td>0</td>\n",
              "    </tr>\n",
              "    <tr>\n",
              "      <th>1</th>\n",
              "      <td>NMRKVXVD</td>\n",
              "      <td>0</td>\n",
              "    </tr>\n",
              "    <tr>\n",
              "      <th>2</th>\n",
              "      <td>QJWQ3P6U</td>\n",
              "      <td>0</td>\n",
              "    </tr>\n",
              "    <tr>\n",
              "      <th>3</th>\n",
              "      <td>MNXHWV8Y</td>\n",
              "      <td>1</td>\n",
              "    </tr>\n",
              "    <tr>\n",
              "      <th>4</th>\n",
              "      <td>JEMGWPXT</td>\n",
              "      <td>1</td>\n",
              "    </tr>\n",
              "    <tr>\n",
              "      <th>...</th>\n",
              "      <td>...</td>\n",
              "      <td>...</td>\n",
              "    </tr>\n",
              "    <tr>\n",
              "      <th>172002</th>\n",
              "      <td>8MTUAWG5</td>\n",
              "      <td>1</td>\n",
              "    </tr>\n",
              "    <tr>\n",
              "      <th>172003</th>\n",
              "      <td>EVDBF6ZP</td>\n",
              "      <td>0</td>\n",
              "    </tr>\n",
              "    <tr>\n",
              "      <th>172004</th>\n",
              "      <td>GGSFWQMN</td>\n",
              "      <td>0</td>\n",
              "    </tr>\n",
              "    <tr>\n",
              "      <th>172005</th>\n",
              "      <td>NLJCS9WK</td>\n",
              "      <td>1</td>\n",
              "    </tr>\n",
              "    <tr>\n",
              "      <th>172006</th>\n",
              "      <td>VEZXWTUJ</td>\n",
              "      <td>1</td>\n",
              "    </tr>\n",
              "  </tbody>\n",
              "</table>\n",
              "<p>172007 rows × 2 columns</p>\n",
              "</div>"
            ],
            "text/plain": [
              "              ID  final_Predicted\n",
              "0       L29UAVJD                0\n",
              "1       NMRKVXVD                0\n",
              "2       QJWQ3P6U                0\n",
              "3       MNXHWV8Y                1\n",
              "4       JEMGWPXT                1\n",
              "...          ...              ...\n",
              "172002  8MTUAWG5                1\n",
              "172003  EVDBF6ZP                0\n",
              "172004  GGSFWQMN                0\n",
              "172005  NLJCS9WK                1\n",
              "172006  VEZXWTUJ                1\n",
              "\n",
              "[172007 rows x 2 columns]"
            ]
          },
          "metadata": {
            "tags": []
          },
          "execution_count": 781
        }
      ]
    },
    {
      "cell_type": "code",
      "metadata": {
        "colab": {
          "base_uri": "https://localhost:8080/"
        },
        "id": "b6r5I-yeXdby",
        "outputId": "1b85ed0d-52e8-4b88-cf6f-55cc0c33277e"
      },
      "source": [
        "# Let's check the overall accuracy.\n",
        "accuracy_score= metrics.accuracy_score(y_train_pred_final.Converted, y_train_pred_final.final_Predicted)\n",
        "confusion2 = metrics.confusion_matrix(y_train_pred_final.Converted, y_train_pred_final.final_Predicted )\n",
        "precision_score = precision_score(y_train_pred_final.Converted , y_train_pred_final.final_Predicted)\n",
        "recall_score = recall_score(y_train_pred_final.Converted, y_train_pred_final.final_Predicted)\n",
        "\n",
        "print(\"Accuracy Score:\" + str(accuracy_score))\n",
        "print(\"Precision Score:\" + str(precision_score))\n",
        "print(\"Recall Score:\" + str(recall_score))\n",
        "print(\"Confusion matrix:\" + str(confusion2))\n",
        "\n"
      ],
      "execution_count": 782,
      "outputs": [
        {
          "output_type": "stream",
          "text": [
            "Accuracy Score:0.7169359386536595\n",
            "Precision Score:0.44364297358512345\n",
            "Recall Score:0.7523241021626382\n",
            "Confusion matrix:[[92566 38565]\n",
            " [10124 30752]]\n"
          ],
          "name": "stdout"
        }
      ]
    },
    {
      "cell_type": "code",
      "metadata": {
        "colab": {
          "base_uri": "https://localhost:8080/"
        },
        "id": "kWJmblp7X7RF",
        "outputId": "b8a91762-6bb9-4dda-df2c-61b9d1fc0a23"
      },
      "source": [
        "TP = confusion2[1,1] # true positive \n",
        "TN = confusion2[0,0] # true negatives\n",
        "FP = confusion2[0,1] # false positives\n",
        "FN = confusion2[1,0] # false negatives\n",
        "sensitivity = TP / float(TP+FN)\n",
        "specificity = TN / float(TN+FP)\n",
        "positivePredictedValue = TP / float(TP+FP)\n",
        "negativePredictedValue = TN / float(TN+ FN)\n",
        "precision =confusion2[1,1]/(confusion2[0,1]+confusion2[1,1])\n",
        "recall = confusion2[1,1]/(confusion2[1,0]+confusion2[1,1])\n",
        "print(\"Sensitivity:\" + str(sensitivity))\n",
        "print(\"Specificity:\" + str(specificity))\n",
        "print (\"Positive Predicted Value: \" + str(positivePredictedValue))\n",
        "print (\"Negative predictive value: \" + str(negativePredictedValue))\n",
        "print(\"Precision:\" + str(precision))\n",
        "print(\"Recall:\" + str(recall))\n"
      ],
      "execution_count": 783,
      "outputs": [
        {
          "output_type": "stream",
          "text": [
            "Sensitivity:0.7523241021626382\n",
            "Specificity:0.7059047822406601\n",
            "Positive Predicted Value: 0.44364297358512345\n",
            "Negative predictive value: 0.90141201674944\n",
            "Precision:0.44364297358512345\n",
            "Recall:0.7523241021626382\n"
          ],
          "name": "stdout"
        }
      ]
    }
  ]
}